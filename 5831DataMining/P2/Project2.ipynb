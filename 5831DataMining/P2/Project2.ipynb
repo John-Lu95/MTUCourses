{
 "cells": [
  {
   "cell_type": "markdown",
   "metadata": {},
   "source": [
    "# Part A"
   ]
  },
  {
   "cell_type": "markdown",
   "metadata": {},
   "source": [
    "## Q1.  \n",
    "GroupName:P2violet , MemberNames: Yifu Deng, Jiangqiu Shen, Zhiyuan Lu"
   ]
  },
  {
   "cell_type": "markdown",
   "metadata": {},
   "source": [
    "## Q2."
   ]
  },
  {
   "cell_type": "markdown",
   "metadata": {},
   "source": [
    "### (a)"
   ]
  },
  {
   "cell_type": "code",
   "execution_count": 3,
   "metadata": {},
   "outputs": [],
   "source": [
    "import numpy as np\n",
    "import matplotlib.pyplot as plt\n",
    "from scipy.spatial import distance\n",
    "import csv"
   ]
  },
  {
   "cell_type": "code",
   "execution_count": 4,
   "metadata": {},
   "outputs": [
    {
     "name": "stdout",
     "output_type": "stream",
     "text": [
      "[[0 4]\n",
      " [1 3]\n",
      " [1 4]\n",
      " [2 5]\n",
      " [4 0]\n",
      " [5 1]\n",
      " [5 2]\n",
      " [6 1]]\n",
      "[[0]\n",
      " [1]\n",
      " [1]\n",
      " [2]\n",
      " [4]\n",
      " [5]\n",
      " [5]\n",
      " [6]]\n",
      "[[4]\n",
      " [3]\n",
      " [4]\n",
      " [5]\n",
      " [0]\n",
      " [1]\n",
      " [2]\n",
      " [1]]\n"
     ]
    },
    {
     "data": {
      "image/png": "[encoded data removed]",
      "text/plain": [
       "<Figure size 432x288 with 1 Axes>"
      ]
     },
     "metadata": {
      "needs_background": "light"
     },
     "output_type": "display_data"
    }
   ],
   "source": [
    "#define List\n",
    "data2 = [[0,4],[1,3],[1,4],[2,5],[4,0],[5,1],[5,2],[6,1]]\n",
    "np_data2=np.asarray(data2,dtype=np.int32)\n",
    "print(np_data2)\n",
    "x1 = np_data2[:,0:1]\n",
    "x2 = np_data2[:,1:2]\n",
    "print(x1)\n",
    "print(x2)\n",
    "plt.scatter(x1,x2)\n",
    "plt.show()"
   ]
  },
  {
   "cell_type": "markdown",
   "metadata": {},
   "source": [
    "### (b)"
   ]
  },
  {
   "cell_type": "code",
   "execution_count": 5,
   "metadata": {},
   "outputs": [],
   "source": [
    "grp1 = [[1,3],[1,4],[4,0],[5,1]]\n",
    "grp2 = [[0,4],[2,5],[5,2],[6,1]]\n",
    "np_grp1 = np.asanyarray(grp1,dtype=np.int32)\n",
    "np_grp2 = np.asanyarray(grp2,dtype=np.int32)"
   ]
  },
  {
   "cell_type": "code",
   "execution_count": 6,
   "metadata": {},
   "outputs": [],
   "source": [
    "def centroid(arr):\n",
    "    length = arr.shape[0]\n",
    "    sum_x = np.sum(arr[:,0])\n",
    "    sum_y = np.sum(arr[:,1])\n",
    "    return [sum_x/length,sum_y/length]"
   ]
  },
  {
   "cell_type": "code",
   "execution_count": 7,
   "metadata": {},
   "outputs": [
    {
     "name": "stdout",
     "output_type": "stream",
     "text": [
      "Group1 centroid [2.75, 2.0] Group2 centroid [3.25, 3.0]\n"
     ]
    }
   ],
   "source": [
    "grp1_ctr = centroid(np_grp1)\n",
    "grp2_ctr = centroid(np_grp2)\n",
    "print('Group1 centroid',grp1_ctr,'Group2 centroid',grp2_ctr)"
   ]
  },
  {
   "cell_type": "markdown",
   "metadata": {},
   "source": [
    "### (c)"
   ]
  },
  {
   "cell_type": "code",
   "execution_count": 8,
   "metadata": {},
   "outputs": [
    {
     "name": "stdout",
     "output_type": "stream",
     "text": [
      "[0 4]\n",
      "[1 3]\n",
      "[1 4]\n",
      "[2 5]\n",
      "[4 0]\n",
      "[5 1]\n",
      "[5 2]\n",
      "[6 1]\n"
     ]
    }
   ],
   "source": [
    "for x in np_data2:\n",
    "    print(x)"
   ]
  },
  {
   "cell_type": "code",
   "execution_count": 9,
   "metadata": {},
   "outputs": [],
   "source": [
    "def regroup(points,c1,c2,group1,group2):\n",
    "    for point in points:\n",
    "        dist1 = distance.euclidean(point,c1)\n",
    "        dist2 = distance.euclidean(point,c2)\n",
    "        if dist1<dist2:\n",
    "            group1.append(point)\n",
    "        else:\n",
    "            group2.append(point)"
   ]
  },
  {
   "cell_type": "code",
   "execution_count": 10,
   "metadata": {},
   "outputs": [
    {
     "name": "stdout",
     "output_type": "stream",
     "text": [
      "[[1 3]\n",
      " [4 0]\n",
      " [5 1]]\n",
      "[[0 4]\n",
      " [1 4]\n",
      " [2 5]\n",
      " [5 2]\n",
      " [6 1]]\n"
     ]
    }
   ],
   "source": [
    "newgrp1=[]\n",
    "newgrp2=[]\n",
    "regroup(np_data2,grp1_ctr,grp2_ctr,newgrp1,newgrp2)\n",
    "np_ngrep1=np.asarray(newgrp1)\n",
    "np_ngrep2=np.asarray(newgrp2)\n",
    "print(np_ngrep1)\n",
    "print(np_ngrep2)"
   ]
  },
  {
   "cell_type": "markdown",
   "metadata": {},
   "source": [
    "### (d)"
   ]
  },
  {
   "cell_type": "code",
   "execution_count": 11,
   "metadata": {},
   "outputs": [],
   "source": [
    "def within_cluster_variation(group1,group2,ctr1,ctr2):\n",
    "    d2c1sum=0\n",
    "    d2c2sum=0\n",
    "    for x in group1:\n",
    "        d2c1sum=d2c1sum+distance.euclidean(x,ctr1)\n",
    "    for x in group2:\n",
    "        d2c2sum=d2c2sum+distance.euclidean(x,ctr2)\n",
    "    return d2c1sum+d2c2sum"
   ]
  },
  {
   "cell_type": "markdown",
   "metadata": {},
   "source": [
    "loop1"
   ]
  },
  {
   "cell_type": "code",
   "execution_count": 12,
   "metadata": {},
   "outputs": [
    {
     "name": "stdout",
     "output_type": "stream",
     "text": [
      "[3.3333333333333335, 1.3333333333333333] [2.8, 3.2]\n",
      "[[4 0]\n",
      " [5 1]\n",
      " [5 2]\n",
      " [6 1]]\n",
      "[[0 4]\n",
      " [1 3]\n",
      " [1 4]\n",
      " [2 5]]\n",
      "within-cluster variance  16.335523445399936\n"
     ]
    }
   ],
   "source": [
    "grp1_ctr1 = centroid(np_ngrep1)\n",
    "grp2_ctr1 = centroid(np_ngrep2)\n",
    "print(grp1_ctr1,grp2_ctr1)\n",
    "new1=[]\n",
    "new2=[]\n",
    "regroup(np_data2,grp1_ctr1,grp2_ctr1,new1,new2)\n",
    "np_new1=np.asarray(new1)\n",
    "np_new2=np.asarray(new2)\n",
    "print(np_new1)\n",
    "print(np_new2)\n",
    "print('within-cluster variance ',within_cluster_variation(np_new1,np_new2,grp1_ctr1,grp2_ctr1))"
   ]
  },
  {
   "cell_type": "markdown",
   "metadata": {},
   "source": [
    "loop2"
   ]
  },
  {
   "cell_type": "code",
   "execution_count": 13,
   "metadata": {},
   "outputs": [
    {
     "name": "stdout",
     "output_type": "stream",
     "text": [
      "[3.3333333333333335, 1.3333333333333333] [2.8, 3.2]\n",
      "[[4 0]\n",
      " [5 1]\n",
      " [5 2]\n",
      " [6 1]]\n",
      "[[0 4]\n",
      " [1 3]\n",
      " [1 4]\n",
      " [2 5]]\n",
      "within-cluster variance  16.335523445399936\n"
     ]
    }
   ],
   "source": [
    "grp1_ctr1 = centroid(np_ngrep1)\n",
    "grp2_ctr1 = centroid(np_ngrep2)\n",
    "print(grp1_ctr1,grp2_ctr1)\n",
    "new1=[]\n",
    "new2=[]\n",
    "regroup(np_data2,grp1_ctr1,grp2_ctr1,new1,new2)\n",
    "np_new1=np.asarray(new1)\n",
    "np_new2=np.asarray(new2)\n",
    "print(np_new1)\n",
    "print(np_new2)\n",
    "print('within-cluster variance ',within_cluster_variation(np_new1,np_new2,grp1_ctr1,grp2_ctr1))"
   ]
  },
  {
   "cell_type": "markdown",
   "metadata": {},
   "source": [
    "### (e)"
   ]
  },
  {
   "cell_type": "markdown",
   "metadata": {},
   "source": [
    "## Q3"
   ]
  },
  {
   "cell_type": "code",
   "execution_count": 4,
   "metadata": {},
   "outputs": [],
   "source": []
  },
  {
   "cell_type": "markdown",
   "metadata": {},
   "source": []
  },
  {
   "cell_type": "markdown",
   "metadata": {},
   "source": [
    "### (a)"
   ]
  },
  {
   "cell_type": "code",
   "execution_count": 15,
   "metadata": {},
   "outputs": [
    {
     "data": {
      "image/png": "[encoded data removed]",
      "text/plain": [
       "<Figure size 432x288 with 1 Axes>"
      ]
     },
     "metadata": {
      "needs_background": "light"
     },
     "output_type": "display_data"
    },
    {
     "data": {
      "image/png": "[encoded data removed]",
      "text/plain": [
       "<Figure size 576x216 with 2 Axes>"
      ]
     },
     "metadata": {
      "needs_background": "light"
     },
     "output_type": "display_data"
    }
   ],
   "source": [
    "ytdist = np.array([662., 877., 255., 412., 996., 295., 468., 268.,\n",
    "                   400., 754., 564., 138., 219., 869., 669.])\n",
    "ytdist = np.array([0.3, 0.4, 0.7, 0.6, 0.5, 0.8, 0.2, 0.45,\n",
    "                   0.4,0.35])\n",
    "#ytdist = np.array([0.3,0.4,0.5,0.7,0.8,0.45,0.6,0.2,0.4,0.35])\n",
    "Z = hierarchy.linkage(ytdist, 'complete')\n",
    "plt.figure()\n",
    "dn = hierarchy.dendrogram(Z)\n",
    "hierarchy.set_link_color_palette(['m', 'c', 'y', 'k'])\n",
    "fig, axes = plt.subplots(1, 2, figsize=(8, 3))\n",
    "dn1 = hierarchy.dendrogram(Z, ax=axes[0], above_threshold_color='y',\n",
    "                           orientation='top')\n",
    "dn2 = hierarchy.dendrogram(Z, ax=axes[1],\n",
    "                           above_threshold_color='#bcbddc',\n",
    "                           orientation='right')\n",
    "hierarchy.set_link_color_palette(None)  # reset to default after use\n",
    "plt.show()"
   ]
  },
  {
   "cell_type": "markdown",
   "metadata": {},
   "source": [
    "### (b)"
   ]
  },
  {
   "cell_type": "code",
   "execution_count": null,
   "metadata": {},
   "outputs": [],
   "source": []
  },
  {
   "cell_type": "markdown",
   "metadata": {},
   "source": [
    "### (c)"
   ]
  },
  {
   "cell_type": "code",
   "execution_count": null,
   "metadata": {},
   "outputs": [],
   "source": []
  },
  {
   "cell_type": "markdown",
   "metadata": {},
   "source": [
    "# Part B"
   ]
  },
  {
   "cell_type": "code",
   "execution_count": null,
   "metadata": {},
   "outputs": [],
   "source": []
  },
  {
   "cell_type": "markdown",
   "metadata": {},
   "source": [
    "## Q4"
   ]
  },
  {
   "cell_type": "code",
   "execution_count": 16,
   "metadata": {},
   "outputs": [],
   "source": [
    "from sklearn.preprocessing import MinMaxScaler"
   ]
  },
  {
   "cell_type": "markdown",
   "metadata": {},
   "source": [
    "1. min-max normalization with min=0 and max=1"
   ]
  },
  {
   "cell_type": "code",
   "execution_count": 17,
   "metadata": {},
   "outputs": [
    {
     "name": "stdout",
     "output_type": "stream",
     "text": [
      "[[0. ]\n",
      " [0.1]\n",
      " [0.2]\n",
      " [0.4]\n",
      " [1. ]]\n"
     ]
    }
   ],
   "source": [
    "data4 = np.asarray([20,30,40,60,120])\n",
    "data4 = data4.reshape(-1,1)\n",
    "#print(data4.shape)\n",
    "#print(data4)\n",
    "scaler = MinMaxScaler((0,1))\n",
    "data4_scaled = scaler.fit_transform(data4)\n",
    "print(data4_scaled)"
   ]
  },
  {
   "cell_type": "markdown",
   "metadata": {},
   "source": [
    "2.min-max normalization with min=-1 and max=1"
   ]
  },
  {
   "cell_type": "code",
   "execution_count": 18,
   "metadata": {},
   "outputs": [
    {
     "name": "stdout",
     "output_type": "stream",
     "text": [
      "[[-1. ]\n",
      " [-0.8]\n",
      " [-0.6]\n",
      " [-0.2]\n",
      " [ 1. ]]\n"
     ]
    }
   ],
   "source": [
    "data4 = np.asarray([20,30,40,60,120])\n",
    "data4 = data4.reshape(-1,1)\n",
    "#print(data4.shape)\n",
    "#print(data4)\n",
    "scaler = MinMaxScaler((-1,1))\n",
    "data4_scaled = scaler.fit_transform(data4)\n",
    "print(data4_scaled)"
   ]
  },
  {
   "cell_type": "markdown",
   "metadata": {},
   "source": [
    "3.z-core normalization"
   ]
  },
  {
   "cell_type": "code",
   "execution_count": 19,
   "metadata": {},
   "outputs": [
    {
     "name": "stdout",
     "output_type": "stream",
     "text": [
      "[-0.95632472 -0.67505274 -0.39378077  0.16876319  1.85639504]\n"
     ]
    }
   ],
   "source": [
    "from scipy import stats\n",
    "data4 = np.asarray([20,30,40,60,120])\n",
    "data4_scaled = stats.zscore(data4)\n",
    "print(data4_scaled)"
   ]
  },
  {
   "cell_type": "markdown",
   "metadata": {},
   "source": [
    "## Q5"
   ]
  },
  {
   "cell_type": "code",
   "execution_count": 20,
   "metadata": {},
   "outputs": [],
   "source": [
    "data5 = [[1.4,1.3,2.9],[1.8,1.1,3.2],[1.3,1.2,2.9],[0.9,3.3,3.1],[1.5,2.1,3.3]]\n",
    "new_point = [[1.25,1.74,3.01]]"
   ]
  },
  {
   "cell_type": "markdown",
   "metadata": {},
   "source": [
    "### (a)"
   ]
  },
  {
   "cell_type": "code",
   "execution_count": 21,
   "metadata": {},
   "outputs": [
    {
     "name": "stdout",
     "output_type": "stream",
     "text": [
      "[[0.7 ]\n",
      " [1.38]\n",
      " [0.7 ]\n",
      " [2.  ]\n",
      " [0.9 ]]\n",
      "[[0.47770284]\n",
      " [0.86498555]\n",
      " [0.55335341]\n",
      " [1.60131196]\n",
      " [0.52554733]]\n",
      "[[0.44795782]\n",
      " [0.75791789]\n",
      " [0.54165928]\n",
      " [1.56594978]\n",
      " [0.4425438 ]]\n",
      "[[0.44]\n",
      " [0.64]\n",
      " [0.54]\n",
      " [1.56]\n",
      " [0.36]]\n",
      "[[0.99302539]\n",
      " [0.97425531]\n",
      " [0.99132894]\n",
      " [0.94973001]\n",
      " [0.99898186]]\n"
     ]
    }
   ],
   "source": [
    "from scipy.spatial.distance import cdist\n",
    "#Manhattan Distance\n",
    "man_dist = cdist(data5,new_point,metric='cityblock')\n",
    "print(man_dist)\n",
    "#Euclidean Distance\n",
    "eucl_dist = cdist(data5,new_point,metric='euclidean')\n",
    "print(eucl_dist)\n",
    "#Minkowski Distance(3)\n",
    "mink_dist = cdist(data5,new_point,metric='minkowski',p=3)\n",
    "print(mink_dist)\n",
    "#Supermum Distance\n",
    "sup_dist = cdist(data5,new_point,metric='chebyshev')\n",
    "print(sup_dist)\n",
    "#Cosine Similarity\n",
    "cosine_dist = cdist(data5,new_point,metric='cosine')\n",
    "#print(cosine_dist)\n",
    "print(1-cosine_dist)"
   ]
  },
  {
   "cell_type": "markdown",
   "metadata": {},
   "source": [
    "### (b)"
   ]
  },
  {
   "cell_type": "code",
   "execution_count": 22,
   "metadata": {},
   "outputs": [
    {
     "name": "stdout",
     "output_type": "stream",
     "text": [
      "[[1.4, 1.3, 2.9], [1.8, 1.1, 3.2], [1.3, 1.2, 2.9], [0.9, 3.3, 3.1], [1.5, 2.1, 3.3]]\n",
      "[1.25, 1.74, 3.01]\n",
      "[[1.4, 1.3, 2.9], [1.8, 1.1, 3.2], [1.3, 1.2, 2.9], [0.9, 3.3, 3.1], [1.5, 2.1, 3.3], [1.25, 1.74, 3.01]]\n",
      "[[0.55555556 0.09090909 0.        ]\n",
      " [1.         0.         0.75      ]\n",
      " [0.44444444 0.04545455 0.        ]\n",
      " [0.         1.         0.5       ]\n",
      " [0.66666667 0.45454545 1.        ]\n",
      " [0.38888889 0.29090909 0.275     ]]\n",
      "[[0.55555556 0.09090909 0.        ]\n",
      " [1.         0.         0.75      ]\n",
      " [0.44444444 0.04545455 0.        ]\n",
      " [0.         1.         0.5       ]\n",
      " [0.66666667 0.45454545 1.        ]]\n",
      "[[0.38888889 0.29090909 0.275     ]]\n",
      "[[0.37868559]\n",
      " [0.82686752]\n",
      " [0.37277252]\n",
      " [0.83944594]\n",
      " [0.79344965]]\n"
     ]
    }
   ],
   "source": [
    "data5 = [[1.4,1.3,2.9],[1.8,1.1,3.2],[1.3,1.2,2.9],[0.9,3.3,3.1],[1.5,2.1,3.3]]\n",
    "new_point = [[1.25,1.74,3.01]]\n",
    "print(data5)\n",
    "data5_t = data5\n",
    "print(new_point[0])\n",
    "data5_t.append(new_point[0])\n",
    "print(data5_t)\n",
    "scaler = MinMaxScaler((0,1))\n",
    "data5_t_scaled = scaler.fit_transform(data5_t)\n",
    "print(data5_t_scaled)\n",
    "data5_scaled = data5_t_scaled[:-1,:]\n",
    "print(data5_scaled)\n",
    "newpoint_scaled = data5_t_scaled[-1:,:]\n",
    "print(newpoint_scaled)\n",
    "#Euclidean Distance\n",
    "eucl_dist = cdist(data5_scaled,newpoint_scaled,metric='euclidean')\n",
    "print(eucl_dist)"
   ]
  },
  {
   "cell_type": "markdown",
   "metadata": {},
   "source": [
    "## Q6"
   ]
  },
  {
   "cell_type": "code",
   "execution_count": 23,
   "metadata": {},
   "outputs": [
    {
     "name": "stdout",
     "output_type": "stream",
     "text": [
      "['Num', 'Name', 'Type1', 'Type2', 'Total', 'HP', 'Attack', 'Defense', 'SpAtk', 'SpDef', 'Speed', 'Generation', 'Legendary']\n",
      "['1', 'Bulbasaur', 'Grass', 'Poison', '318', '45', '49', '49', '65', '65', '45', '1', 'False']\n",
      "800\n",
      "(800, 13)\n",
      "(800, 6)\n"
     ]
    },
    {
     "data": {
      "image/png": "[encoded data removed]",
      "text/plain": [
       "<Figure size 432x288 with 6 Axes>"
      ]
     },
     "metadata": {
      "needs_background": "light"
     },
     "output_type": "display_data"
    }
   ],
   "source": [
    "#Read POKEMON DATA\n",
    "data6=[]\n",
    "with open('P2-data/Pokemon.csv') as csvfile:\n",
    "    csv_reader = csv.reader(csvfile)\n",
    "    d_header = next(csv_reader)\n",
    "    for row in csv_reader:\n",
    "        data6.append(row)\n",
    "col_name=d_header\n",
    "print(col_name)\n",
    "print(data6[0])\n",
    "#print(nfl_data[0][4])\n",
    "print(len(data6))\n",
    "np_data6=np.asarray(data6)\n",
    "print(np_data6.shape)\n",
    "\n",
    "#get 1-D int32 Array for HP, Attack, ...\n",
    "HP=np.array(np_data6[:,5:6],dtype=np.int32)\n",
    "HP = HP.reshape(-1)\n",
    "Attack=np.array(np_data6[:,6:7],dtype=np.int32)\n",
    "Attack = Attack.reshape(-1)\n",
    "Defense=np.array(np_data6[:,7:8],dtype=np.int32)\n",
    "Defense = Defense.reshape(-1)\n",
    "SpAtk=np.array(np_data6[:,8:9],dtype=np.int32)\n",
    "SpAtk = SpAtk.reshape(-1)\n",
    "SpDef=np.array(np_data6[:,9:10],dtype=np.int32)\n",
    "SpDef = SpDef.reshape(-1)\n",
    "Speed=np.array(np_data6[:,10:11],dtype=np.int32)\n",
    "Speed = Speed.reshape(-1)\n",
    "proc_data = np.array(np_data6[:,5:11],dtype=np.int32)\n",
    "print(proc_data.shape)\n",
    "\n",
    "#boxplots\n",
    "fig, axs = plt.subplots(2,3)\n",
    "axs[0,0].boxplot(HP)\n",
    "axs[0,0].set_title('HP')\n",
    "axs[0,1].boxplot(Attack)\n",
    "axs[0,1].set_title('Attack')\n",
    "axs[0,2].boxplot(Defense)\n",
    "axs[0,2].set_title('Defense')\n",
    "axs[1,0].boxplot(SpAtk)\n",
    "axs[1,0].set_title('SpAtk')\n",
    "axs[1,1].boxplot(SpDef)\n",
    "axs[1,1].set_title('SpDef')\n",
    "axs[1,2].boxplot(Speed)\n",
    "axs[1,2].set_title('Speed')\n",
    "plt.subplots_adjust(left=-0.5, bottom=-0.5)\n",
    "plt.show()"
   ]
  },
  {
   "cell_type": "markdown",
   "metadata": {},
   "source": [
    "### (b)"
   ]
  },
  {
   "cell_type": "code",
   "execution_count": 24,
   "metadata": {},
   "outputs": [
    {
     "name": "stdout",
     "output_type": "stream",
     "text": [
      "[[ 45  49  49  65  65  45]\n",
      " [ 60  62  63  80  80  60]\n",
      " [ 80  82  83 100 100  80]\n",
      " ...\n",
      " [ 80 110  60 150 130  70]\n",
      " [ 80 160  60 170 130  80]\n",
      " [ 80 110 120 130  90  70]]\n",
      "[[0.17322835 0.23783784 0.19555556 0.29891304 0.21428571 0.22857143]\n",
      " [0.23228346 0.30810811 0.25777778 0.38043478 0.28571429 0.31428571]\n",
      " [0.31102362 0.41621622 0.34666667 0.48913043 0.38095238 0.42857143]\n",
      " ...\n",
      " [0.31102362 0.56756757 0.24444444 0.76086957 0.52380952 0.37142857]\n",
      " [0.31102362 0.83783784 0.24444444 0.86956522 0.52380952 0.42857143]\n",
      " [0.31102362 0.56756757 0.51111111 0.65217391 0.33333333 0.37142857]]\n"
     ]
    }
   ],
   "source": [
    "scaler=MinMaxScaler((0,1))\n",
    "data_scaled = scaler.fit_transform(proc_data)\n",
    "print(proc_data)\n",
    "print(data_scaled)"
   ]
  },
  {
   "cell_type": "markdown",
   "metadata": {},
   "source": [
    "### (C)"
   ]
  },
  {
   "cell_type": "code",
   "execution_count": 60,
   "metadata": {},
   "outputs": [
    {
     "name": "stdout",
     "output_type": "stream",
     "text": [
      "7\n",
      "[[0.35643655 0.6672533  0.39540052 0.62670627 0.37009967 0.50784053]\n",
      " [0.31177116 0.55901471 0.42666667 0.26114474 0.23200723 0.26502712]\n",
      " [0.20929985 0.25598977 0.22987988 0.18753672 0.13777349 0.16752896]\n",
      " [0.19107971 0.27541651 0.18584475 0.22777695 0.15003262 0.36152642]\n",
      " [0.29252392 0.5404243  0.32310633 0.28325152 0.25110087 0.53683564]\n",
      " [0.26800663 0.36136558 0.29099415 0.51762014 0.30601504 0.56186466]\n",
      " [0.33448163 0.36369369 0.31003704 0.43129529 0.31214286 0.30119048]\n",
      " [0.24325937 0.36756757 0.636633   0.31274704 0.46637807 0.23134199]]\n"
     ]
    }
   ],
   "source": [
    "from sklearn import cluster\n",
    "ccenters=[]\n",
    "for x in range(2,9):\n",
    "    data = data_scaled\n",
    "    km = cluster.KMeans(n_clusters=x)\n",
    "    km.fit(data)\n",
    "    ccenters.append(km.cluster_centers_)\n",
    "print(len(ccenters))"
   ]
  },
  {
   "cell_type": "code",
   "execution_count": 63,
   "metadata": {},
   "outputs": [
    {
     "name": "stdout",
     "output_type": "stream",
     "text": [
      "[[0.35643655 0.6672533  0.39540052 0.62670627 0.37009967 0.50784053]\n",
      " [0.31177116 0.55901471 0.42666667 0.26114474 0.23200723 0.26502712]\n",
      " [0.20929985 0.25598977 0.22987988 0.18753672 0.13777349 0.16752896]\n",
      " [0.19107971 0.27541651 0.18584475 0.22777695 0.15003262 0.36152642]\n",
      " [0.29252392 0.5404243  0.32310633 0.28325152 0.25110087 0.53683564]\n",
      " [0.26800663 0.36136558 0.29099415 0.51762014 0.30601504 0.56186466]\n",
      " [0.33448163 0.36369369 0.31003704 0.43129529 0.31214286 0.30119048]\n",
      " [0.24325937 0.36756757 0.636633   0.31274704 0.46637807 0.23134199]]\n",
      "[2 6 6 0 3 3 5 0 0 2 6 6 0 2 2 6 2 2 3 4 3 3 4 5 3 4 3 4 3 4 3 5 2 1 2 3 6\n",
      " 2 3 4 2 6 3 5 2 6 3 4 2 6 6 2 1 2 5 3 4 3 4 3 5 3 4 3 0 3 3 1 3 5 5 5 2 1\n",
      " 1 2 6 6 3 5 2 1 1 4 4 2 6 7 2 5 3 3 4 2 6 2 1 2 7 3 5 5 5 7 2 6 1 1 3 5 2\n",
      " 6 2 1 4 4 2 2 1 2 1 6 6 4 4 3 5 3 6 3 5 5 4 5 5 5 4 4 4 3 4 0 6 2 3 6 5 0\n",
      " 6 2 6 3 4 4 4 1 6 5 0 3 6 0 0 0 0 0 2 6 6 3 3 5 2 1 4 2 4 2 6 3 3 2 1 4 3\n",
      " 6 3 2 2 2 6 3 5 2 6 6 0 6 2 6 1 6 2 3 5 3 2 6 3 2 1 5 7 3 6 5 3 2 5 2 1 6\n",
      " 4 7 7 2 1 4 1 1 7 4 1 4 2 1 2 7 2 1 2 3 6 3 6 1 3 5 5 5 2 1 6 4 3 2 1 3 3\n",
      " 3 4 6 5 4 6 2 6 0 0 0 0 0 3 5 5 0 3 6 0 0 2 1 1 0 2 4 3 4 2 2 6 2 3 2 3 6\n",
      " 2 3 4 3 4 3 6 2 3 5 0 3 6 2 1 2 4 0 2 4 2 2 3 6 2 1 2 7 2 3 3 7 1 1 2 1 1\n",
      " 7 3 3 4 3 5 5 5 5 3 3 6 2 6 3 4 0 3 6 2 6 0 7 3 6 3 2 3 4 2 6 2 6 0 4 6 6\n",
      " 1 3 6 2 1 3 7 2 6 3 1 3 6 6 6 3 1 0 2 7 6 6 4 0 2 2 6 0 2 6 6 2 1 6 1 3 2\n",
      " 1 0 0 2 1 0 0 7 7 7 5 0 5 0 0 0 0 0 0 0 0 0 0 7 5 2 1 1 3 3 5 2 6 6 3 3 4\n",
      " 2 3 2 3 2 3 0 3 5 1 1 7 7 2 6 1 6 6 3 6 3 3 4 2 5 2 6 4 3 6 3 4 4 5 0 3 4\n",
      " 2 3 4 2 7 2 3 2 5 7 2 4 4 0 2 3 0 0 2 1 3 4 3 4 6 3 5 3 2 6 0 4 6 6 1 1 4\n",
      " 5 5 5 4 6 4 4 5 4 4 7 7 5 5 5 5 5 5 5 7 0 0 0 0 0 0 0 0 7 6 0 5 0 5 0 0 3\n",
      " 3 5 2 6 0 2 6 6 2 4 3 3 4 3 5 3 5 3 5 3 5 2 6 2 3 4 3 4 2 1 1 3 5 3 4 6 7\n",
      " 2 1 1 3 3 6 1 4 2 2 4 3 2 4 3 5 2 5 4 3 3 4 2 4 6 6 2 1 2 7 5 2 7 2 1 4 0\n",
      " 3 4 3 5 3 4 2 6 6 2 6 6 3 5 2 6 5 3 4 5 3 1 2 6 2 6 1 3 5 2 7 2 6 4 3 6 6\n",
      " 2 6 2 6 5 3 1 4 2 1 5 2 5 6 3 4 1 2 1 3 1 1 3 4 3 6 6 4 2 6 0 3 5 4 4 5 0\n",
      " 5 0 0 0 0 0 0 0 0 0 5 5 5 4 0 2 1 1 3 6 5 3 5 5 3 3 3 3 4 2 2 5 3 5 2 6 6\n",
      " 3 6 2 1 4 3 5 5 2 1 0 7 2 6 2 6 2 1 2 1 2 6 2 6 3 5 1 1 2 6 6 4 5 7 2 6 0\n",
      " 6 2 1 2 3 2 2 4 4 1 1 2 1 3 5 0 0 4 7 0 0 0 0]\n"
     ]
    }
   ],
   "source": [
    "print(km.cluster_centers_)\n",
    "print(km.labels_)"
   ]
  },
  {
   "cell_type": "markdown",
   "metadata": {},
   "source": [
    "### (d)"
   ]
  },
  {
   "cell_type": "code",
   "execution_count": 3,
   "metadata": {},
   "outputs": [],
   "source": [
    "from gapstat import GapStatClustering"
   ]
  },
  {
   "cell_type": "code",
   "execution_count": null,
   "metadata": {},
   "outputs": [],
   "source": []
  },
  {
   "cell_type": "code",
   "execution_count": null,
   "metadata": {},
   "outputs": [],
   "source": []
  },
  {
   "cell_type": "code",
   "execution_count": null,
   "metadata": {},
   "outputs": [],
   "source": []
  },
  {
   "cell_type": "markdown",
   "metadata": {},
   "source": [
    "## Q7"
   ]
  },
  {
   "cell_type": "code",
   "execution_count": 9,
   "metadata": {},
   "outputs": [],
   "source": [
    "from scipy.cluster import hierarchy\n",
    "from scipy.cluster.hierarchy import dendrogram\n",
    "from sklearn import metrics\n",
    "from sklearn import cluster\n",
    "import random\n",
    "import pandas as pd\n",
    "import numpy as np\n",
    "import matplotlib as mpl\n",
    "import matplotlib.pyplot as plt\n",
    "import seaborn as sb\n",
    "import csv\n",
    "%matplotlib inline"
   ]
  },
  {
   "cell_type": "code",
   "execution_count": 11,
   "metadata": {},
   "outputs": [
    {
     "name": "stdout",
     "output_type": "stream",
     "text": [
      "['Song', 'Artist', 'Type', 'LVar', 'LAve', 'LMax', 'LFEner', 'LFreq']\n",
      "['Dancing Queen', 'Abba', 'Rock', ' 17600755.6', '-90.0068667', '29921', '105.92095', ' 59.57379']\n",
      "62\n",
      "[ 1.76007556e+07 -9.00068667e+01  2.99210000e+04  1.05920950e+02\n",
      "  5.95737900e+01]\n"
     ]
    }
   ],
   "source": [
    "##Read Music Data\n",
    "data7=[]\n",
    "with open('P2-data/music2.csv') as csv_file:\n",
    "    csv_reader = csv.reader(csv_file)\n",
    "    d_header = next(csv_reader)\n",
    "    for row in csv_reader:\n",
    "        data7.append(row)\n",
    "col_name = d_header\n",
    "print(col_name)\n",
    "print(data7[0])\n",
    "print(len(data7))\n",
    "np_d7 = np.asarray(data7)\n",
    "#num_cols contains all numeric columns\n",
    "num_cols = np.asarray(np_d7[:,3:8],dtype=np.float)\n",
    "print(num_cols[0])\n",
    "#str_cols contains all string columns\n",
    "str_cols=np.asarray(np_d7[:,0:3])\n",
    "d7 = np.c_[str_cols,num_cols]\n",
    "#print(d7)"
   ]
  },
  {
   "cell_type": "code",
   "execution_count": 13,
   "metadata": {},
   "outputs": [
    {
     "name": "stdout",
     "output_type": "stream",
     "text": [
      "[[-8.96906973e-02 -1.75513826e+00  8.55543282e-01  3.47807905e-01\n",
      "  -9.80360294e-01]\n",
      " [-3.97088737e-01 -1.45108013e+00  5.91458301e-01 -2.19448307e-01\n",
      "  -9.86599396e-01]\n",
      " [-4.15916987e-01 -1.92715262e+00  4.47160887e-01 -3.13466622e-01\n",
      "  -6.09372679e-01]\n",
      " [-4.72837633e-01 -1.76504983e+00  7.37826970e-01 -4.43732961e-01\n",
      "  -1.04203159e+00]\n",
      " [-5.21483952e-01 -1.73262804e+00  6.27590189e-01 -6.85678229e-01\n",
      "  -8.97931890e-01]\n",
      " [-5.83149423e-01 -1.30704106e+00  3.50387262e-01 -6.95291900e-01\n",
      "  -8.55817837e-01]\n",
      " [-6.32598585e-01 -1.36388127e+00 -8.96047819e-01  1.04323493e-01\n",
      "   4.21041828e-01]\n",
      " [-7.17817113e-01 -1.28138005e+00 -1.56011511e+00  5.87836021e-02\n",
      "   2.63984011e-01]\n",
      " [-5.26647211e-01 -1.46205582e+00  5.47731812e-02 -3.28953679e-01\n",
      "  -3.77925319e-01]\n",
      " [-6.28279630e-01 -1.41613271e+00 -8.01920798e-01  6.12146029e-02\n",
      "  -4.83030520e-01]\n",
      " [-6.20862830e-01  1.58989270e+00  2.00566502e-01 -8.78453655e-01\n",
      "   5.59982239e-01]\n",
      " [-7.31717631e-01  6.29108820e-01 -1.78933396e+00  6.21230102e-02\n",
      "   3.49440787e+00]\n",
      " [-5.61720636e-01  2.05950088e+00 -5.48307160e-01  1.07208698e-01\n",
      "  -3.74445850e-01]\n",
      " [-7.48380264e-01  4.62044931e-01 -2.11302505e+00  5.89380681e-02\n",
      "   3.57210852e-01]\n",
      " [-7.29222158e-01  9.04800494e-01 -5.96061089e-01 -2.79534380e+00\n",
      "  -1.88352085e-01]\n",
      " [-2.29482399e-01  4.78372247e+00  9.05483535e-01  1.46007251e-01\n",
      "  -1.87872176e-01]\n",
      " [-6.22425885e-01  3.76737688e-01 -1.19212218e-01 -6.44025733e-01\n",
      "   3.68806053e+00]\n",
      " [-7.49880365e-01  2.26796019e-01 -2.24397438e+00  7.82927636e-01\n",
      "  -9.86959371e-01]\n",
      " [-5.95738267e-01  3.99476482e-01 -2.47399873e-02 -4.96632055e-01\n",
      "  -3.13014534e-01]\n",
      " [-7.43119041e-01  2.49744557e-01 -1.64457627e+00 -9.54789288e-01\n",
      "   1.68122387e+00]\n",
      " [-6.53576018e-01  4.14360173e-02 -8.68431089e-01 -3.26577844e-01\n",
      "   6.32571967e-01]\n",
      " [-6.52921263e-01  4.69726833e-02 -1.04759462e+00 -3.64664750e-01\n",
      "   1.60023531e+00]\n",
      " [-4.14395183e-01  3.91906162e-02  3.19778720e-01 -3.29450177e-01\n",
      "   1.12906186e+00]\n",
      " [-6.06406731e-01  3.37379134e-02 -1.33250722e-01 -1.18252368e+00\n",
      "   6.41090737e-01]\n",
      " [-7.01295981e-01  3.43338825e-02 -7.64868351e-01 -8.37378567e-01\n",
      "   3.25535319e-01]\n",
      " [-4.65170672e-01  4.35016673e-02  1.15069708e-03 -4.33997925e-01\n",
      "   1.30003772e+00]\n",
      " [ 7.75344797e-01 -6.15365848e-02  1.18211111e+00  3.76351018e-01\n",
      "  -9.46645019e-01]\n",
      " [ 4.17814186e+00  1.23883050e+00  1.18211111e+00  1.83387027e+00\n",
      "  -1.08402566e+00]\n",
      " [-4.24581315e-02  1.66228458e-01  9.09050696e-01  2.62329354e-01\n",
      "  -3.77445410e-01]\n",
      " [ 8.86951618e-01  2.07117150e-01  1.18211111e+00  7.99694554e-01\n",
      "  -3.23812971e-01]\n",
      " [ 2.61687356e+00  1.73875793e-01  1.18038507e+00  1.46735735e+00\n",
      "   9.18011684e-01]\n",
      " [-1.39855078e-01  1.63702257e-01  8.76831178e-01 -1.61508040e-02\n",
      "   4.60276313e-01]\n",
      " [ 1.32377635e+00  2.09085003e-01  1.18211111e+00  8.91028102e-01\n",
      "   4.62076014e-01]\n",
      " [-2.91055678e-01  1.88610991e-01  8.45762356e-02 -1.34326500e-01\n",
      "  -2.61301788e-01]\n",
      " [ 1.67579444e+00  2.38431413e-01  1.18211111e+00  1.01200441e+00\n",
      "  -9.42925568e-01]\n",
      " [ 9.04767123e-01  1.23731432e-01  1.18211111e+00  7.95509261e-01\n",
      "  -7.56351894e-01]\n",
      " [ 3.37814012e-01  4.40311885e-02  1.92511622e-01  1.09018812e+00\n",
      "  -5.98454193e-01]\n",
      " [ 1.57579690e+00  3.78636276e-02  6.92259365e-01  1.43222921e+00\n",
      "   3.61050295e-01]\n",
      " [ 2.16603523e+00  3.94793702e-02  8.76370899e-01  1.59768989e+00\n",
      "  -7.48553016e-01]\n",
      " [ 1.24159063e+00  4.43249901e-02  8.54392585e-01  1.21987521e+00\n",
      "  -6.90361242e-01]\n",
      " [ 1.83700050e+00  3.54968842e-02  9.12387718e-01  1.39203862e+00\n",
      "  -7.07998739e-01]\n",
      " [ 1.24434234e+00  4.46416215e-02  1.13136537e+00  1.16155510e+00\n",
      "  -5.37982752e-01]\n",
      " [ 1.19374015e-01  3.79540434e-02  6.53941153e-01  6.02393642e-01\n",
      "  -3.30292056e-01]\n",
      " [ 7.61343576e-01  3.30033751e-02  7.56583332e-01  1.00124880e+00\n",
      "  -7.98226021e-01]\n",
      " [-4.31866255e-02  3.58895956e-02 -9.27461849e-02  8.51291720e-01\n",
      "  -3.79245168e-01]\n",
      " [ 1.47497194e+00  3.86524624e-02  9.94777629e-01  1.31654152e+00\n",
      "  -7.92706754e-01]\n",
      " [-4.41878770e-01  1.46337699e-01  4.78574917e-01 -4.20844408e-01\n",
      "   7.00242386e-01]\n",
      " [-7.49948618e-01  1.64041291e-01 -2.06343001e+00 -1.41214949e-01\n",
      "   4.82953110e-01]\n",
      " [-4.53979325e-01  1.59621668e-01  1.96539062e-01 -5.20075950e-01\n",
      "   9.45967709e-01]\n",
      " [ 1.35128435e-01  1.46608427e-01  1.18291660e+00  3.95848675e-01\n",
      "   1.69958132e+00]\n",
      " [-6.98575652e-01  1.96383586e-01 -1.85147161e-01 -1.73576578e+00\n",
      "   1.21880917e+00]\n",
      " [-7.48027229e-01  1.13859706e-01 -1.52593940e+00 -1.95671654e+00\n",
      "   5.72220517e-01]\n",
      " [-6.22103145e-01  1.44440394e-01  2.47054664e-01 -1.13378046e+00\n",
      "  -2.87458111e-01]\n",
      " [-1.87727322e-01  1.35968395e-01  4.11949556e-01  4.35404847e-01\n",
      "   1.00927018e-01]\n",
      " [-7.17831187e-01 -6.00205420e-02 -1.43745080e+00 -3.43543362e-01\n",
      "  -4.35517192e-01]\n",
      " [-2.94572377e-01 -2.14160403e-01  2.85603016e-01  3.17747715e-01\n",
      "  -8.67696198e-01]\n",
      " [-6.95394175e-01  2.08109629e-02 -1.06543043e+00 -3.97398673e-01\n",
      "  -1.04059175e+00]\n",
      " [ 1.88720851e-01 -1.84031893e+00  8.45071938e-01  6.81020521e-01\n",
      "  -4.86989955e-01]\n",
      " [-6.89429080e-01  4.38332329e-01 -1.59774290e+00  3.28784680e-01\n",
      "  -9.84559655e-01]\n",
      " [-7.33020137e-01  2.88817244e-01 -1.77172830e+00 -2.03804946e-01\n",
      "  -3.16374011e-01]\n",
      " [-6.51814090e-01  6.24639143e-01 -5.98822762e-01 -3.52403091e-01\n",
      "  -9.69681792e-01]\n",
      " [-4.31086249e-01  3.57674291e-02 -4.57632230e-01 -3.70490222e+00\n",
      "  -6.76491849e-02]]\n"
     ]
    }
   ],
   "source": [
    "#standardize data\n",
    "from sklearn.preprocessing import StandardScaler\n",
    "stad_data = StandardScaler().fit_transform(num_cols)\n",
    "#print(stad_data)"
   ]
  },
  {
   "cell_type": "code",
   "execution_count": 19,
   "metadata": {},
   "outputs": [
    {
     "data": {
      "image/png": "[encoded data removed]",
      "text/plain": [
       "<Figure size 720x360 with 1 Axes>"
      ]
     },
     "metadata": {
      "needs_background": "light"
     },
     "output_type": "display_data"
    },
    {
     "data": {
      "image/png": "[encoded data removed]",
      "text/plain": [
       "<Figure size 720x360 with 1 Axes>"
      ]
     },
     "metadata": {
      "needs_background": "light"
     },
     "output_type": "display_data"
    }
   ],
   "source": [
    "#Type\n",
    "#single\n",
    "modelSingle = cluster.AgglomerativeClustering(distance_threshold=0,\n",
    "                                              n_clusters=None,\n",
    "                                              linkage=\"single\")\n",
    "modelSingle = modelSingle.fit(stad_data)\n",
    "ypred = modelSingle.fit_predict(stad_data)\n",
    "Z = hierarchy.linkage(stad_data, 'single')\n",
    "plt.figure(figsize=(10, 5))\n",
    "dn = hierarchy.dendrogram(Z)\n",
    "#complete\n",
    "modelComplete = cluster.AgglomerativeClustering(distance_threshold=0, \n",
    "                                                n_clusters=None, \n",
    "                                                linkage=\"complete\")\n",
    "modelComplete = modelComplete.fit(stad_data)\n",
    "ypred = modelComplete.fit_predict(stad_data)\n",
    "Z = hierarchy.linkage(stad_data, 'complete')\n",
    "plt.figure(figsize=(10, 5))\n",
    "dn = hierarchy.dendrogram(Z)"
   ]
  },
  {
   "cell_type": "code",
   "execution_count": 15,
   "metadata": {},
   "outputs": [],
   "source": [
    "#Artist"
   ]
  },
  {
   "cell_type": "code",
   "execution_count": null,
   "metadata": {},
   "outputs": [],
   "source": []
  }
 ],
 "metadata": {
  "kernelspec": {
   "display_name": "Python 3",
   "language": "python",
   "name": "python3"
  },
  "language_info": {
   "codemirror_mode": {
    "name": "ipython",
    "version": 3
   },
   "file_extension": ".py",
   "mimetype": "text/x-python",
   "name": "python",
   "nbconvert_exporter": "python",
   "pygments_lexer": "ipython3",
   "version": "3.7.7"
  }
 },
 "nbformat": 4,
 "nbformat_minor": 4
}
