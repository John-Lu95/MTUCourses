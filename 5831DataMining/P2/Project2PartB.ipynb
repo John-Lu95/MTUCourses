{
 "cells": [
  {
   "cell_type": "markdown",
   "metadata": {},
   "source": [
    "# Part B"
   ]
  },
  {
   "cell_type": "code",
   "execution_count": 28,
   "metadata": {
    "collapsed": false,
    "jupyter": {
     "outputs_hidden": false
    },
    "pycharm": {
     "name": "#%%\n"
    }
   },
   "outputs": [],
   "source": []
  },
  {
   "cell_type": "markdown",
   "metadata": {},
   "source": [
    "## Q4"
   ]
  },
  {
   "cell_type": "code",
   "execution_count": 29,
   "metadata": {
    "collapsed": false,
    "jupyter": {
     "outputs_hidden": false
    },
    "pycharm": {
     "name": "#%%\n"
    }
   },
   "outputs": [],
   "source": [
    "from sklearn.preprocessing import MinMaxScaler\n",
    "import numpy as np\n",
    "import matplotlib.pyplot as plt\n",
    "import pandas as pd"
   ]
  },
  {
   "cell_type": "markdown",
   "metadata": {},
   "source": [
    "1. min-max normalization with min=0 and max=1"
   ]
  },
  {
   "cell_type": "code",
   "execution_count": 30,
   "metadata": {
    "collapsed": false,
    "jupyter": {
     "outputs_hidden": false
    },
    "pycharm": {
     "name": "#%%\n"
    }
   },
   "outputs": [
    {
     "name": "stdout",
     "output_type": "stream",
     "text": [
      "[[0. ]\n",
      " [0.1]\n",
      " [0.2]\n",
      " [0.4]\n",
      " [1. ]]\n"
     ]
    }
   ],
   "source": [
    "data4 = np.asarray([20,30,40,60,120])\n",
    "data4 = data4.reshape(-1,1)\n",
    "#print(data4.shape)\n",
    "#print(data4)\n",
    "scaler = MinMaxScaler((0,1))\n",
    "data4_scaled = scaler.fit_transform(data4)\n",
    "print(data4_scaled)"
   ]
  },
  {
   "cell_type": "markdown",
   "metadata": {},
   "source": [
    "2.min-max normalization with min=-1 and max=1"
   ]
  },
  {
   "cell_type": "code",
   "execution_count": 31,
   "metadata": {
    "collapsed": false,
    "jupyter": {
     "outputs_hidden": false
    },
    "pycharm": {
     "name": "#%%\n"
    }
   },
   "outputs": [
    {
     "name": "stdout",
     "output_type": "stream",
     "text": [
      "[[-1. ]\n",
      " [-0.8]\n",
      " [-0.6]\n",
      " [-0.2]\n",
      " [ 1. ]]\n"
     ]
    }
   ],
   "source": [
    "scaler = MinMaxScaler((-1,1))\n",
    "data4_scaled = scaler.fit_transform(data4)\n",
    "print(data4_scaled)"
   ]
  },
  {
   "cell_type": "markdown",
   "metadata": {},
   "source": [
    "3.z-core normalization"
   ]
  },
  {
   "cell_type": "code",
   "execution_count": 32,
   "metadata": {
    "collapsed": false,
    "jupyter": {
     "outputs_hidden": false
    },
    "pycharm": {
     "name": "#%%\n"
    }
   },
   "outputs": [
    {
     "name": "stdout",
     "output_type": "stream",
     "text": [
      "[-0.95632472 -0.67505274 -0.39378077  0.16876319  1.85639504]\n"
     ]
    }
   ],
   "source": [
    "from scipy import stats\n",
    "data4 = np.asarray([20,30,40,60,120])\n",
    "data4_scaled = stats.zscore(data4)\n",
    "print(data4_scaled)"
   ]
  },
  {
   "cell_type": "markdown",
   "metadata": {},
   "source": [
    "## Q5"
   ]
  },
  {
   "cell_type": "code",
   "execution_count": 33,
   "metadata": {
    "collapsed": false,
    "jupyter": {
     "outputs_hidden": false
    },
    "pycharm": {
     "name": "#%%\n"
    }
   },
   "outputs": [],
   "source": [
    "data5 = [[1.4,1.3,2.9],[1.8,1.1,3.2],[1.3,1.2,2.9],[0.9,3.3,3.1],[1.5,2.1,3.3]]\n",
    "new_point = [[1.25,1.74,3.01]]"
   ]
  },
  {
   "cell_type": "markdown",
   "metadata": {},
   "source": [
    "### (a)"
   ]
  },
  {
   "cell_type": "code",
   "execution_count": 34,
   "metadata": {
    "collapsed": false,
    "jupyter": {
     "outputs_hidden": false
    },
    "pycharm": {
     "name": "#%%\n"
    }
   },
   "outputs": [
    {
     "name": "stdout",
     "output_type": "stream",
     "text": [
      "Manhattan Distance\n",
      "[[0.7 ]\n",
      " [1.38]\n",
      " [0.7 ]\n",
      " [2.  ]\n",
      " [0.9 ]]\n",
      "Euclidean Distance\n",
      "[[0.47770284]\n",
      " [0.86498555]\n",
      " [0.55335341]\n",
      " [1.60131196]\n",
      " [0.52554733]]\n",
      "Minkowski Distance\n",
      "[[0.44795782]\n",
      " [0.75791789]\n",
      " [0.54165928]\n",
      " [1.56594978]\n",
      " [0.4425438 ]]\n",
      "Supermum Distance\n",
      "[[0.44]\n",
      " [0.64]\n",
      " [0.54]\n",
      " [1.56]\n",
      " [0.36]]\n",
      "Cosine Similarity\n",
      "[[0.99302539]\n",
      " [0.97425531]\n",
      " [0.99132894]\n",
      " [0.94973001]\n",
      " [0.99898186]]\n"
     ]
    }
   ],
   "source": [
    "from scipy.spatial.distance import cdist\n",
    "#Manhattan Distance\n",
    "print(\"Manhattan Distance\")\n",
    "man_dist = cdist(data5,new_point,metric='cityblock')\n",
    "print(man_dist)\n",
    "\n",
    "#Euclidean Distance\n",
    "print(\"Euclidean Distance\")\n",
    "eucl_dist = cdist(data5,new_point,metric='euclidean')\n",
    "print(eucl_dist)\n",
    "#Minkowski Distance(3)\n",
    "print(\"Minkowski Distance\")\n",
    "mink_dist = cdist(data5,new_point,metric='minkowski',p=3)\n",
    "print(mink_dist)\n",
    "#Supermum Distance\n",
    "print(\"Supermum Distance\")\n",
    "\n",
    "sup_dist = cdist(data5,new_point,metric='chebyshev')\n",
    "print(sup_dist)\n",
    "#Cosine Similarity\n",
    "print(\"Cosine Similarity\")\n",
    "\n",
    "cosine_dist = cdist(data5,new_point,metric='cosine')\n",
    "#print(cosine_dist)\n",
    "print(1-cosine_dist)"
   ]
  },
  {
   "cell_type": "markdown",
   "metadata": {},
   "source": [
    "### (b)"
   ]
  },
  {
   "cell_type": "code",
   "execution_count": 35,
   "metadata": {
    "collapsed": false,
    "jupyter": {
     "outputs_hidden": false
    },
    "pycharm": {
     "name": "#%%\n"
    }
   },
   "outputs": [
    {
     "name": "stdout",
     "output_type": "stream",
     "text": [
      "the new distance after scale is:\n",
      "[[0.37868559]\n",
      " [0.82686752]\n",
      " [0.37277252]\n",
      " [0.83944594]\n",
      " [0.79344965]]\n"
     ]
    }
   ],
   "source": [
    "data5 = [[1.4,1.3,2.9],[1.8,1.1,3.2],[1.3,1.2,2.9],[0.9,3.3,3.1],[1.5,2.1,3.3]]\n",
    "new_point = [[1.25,1.74,3.01]]\n",
    "#print(data5)\n",
    "data5_t = data5\n",
    "#print(new_point[0])\n",
    "data5_t.append(new_point[0])\n",
    "#print(data5_t)\n",
    "scaler = MinMaxScaler((0,1))\n",
    "data5_t_scaled = scaler.fit_transform(data5_t)\n",
    "#print(data5_t_scaled)\n",
    "data5_scaled = data5_t_scaled[:-1,:]\n",
    "#print(data5_scaled)\n",
    "newpoint_scaled = data5_t_scaled[-1:,:]\n",
    "#print(newpoint_scaled)\n",
    "#Euclidean Distance\n",
    "eucl_dist = cdist(data5_scaled,newpoint_scaled,metric='euclidean')\n",
    "print(\"the new distance after scale is:\")\n",
    "print(eucl_dist)"
   ]
  },
  {
   "cell_type": "markdown",
   "metadata": {},
   "source": [
    "## Q6"
   ]
  },
  {
   "cell_type": "code",
   "execution_count": 36,
   "metadata": {
    "collapsed": false,
    "jupyter": {
     "outputs_hidden": false
    },
    "pycharm": {
     "name": "#%%\n"
    }
   },
   "outputs": [
    {
     "name": "stdout",
     "output_type": "stream",
     "text": [
      "     Num                   Name    Type1   Type2  Total  HP  Attack  Defense  \\\n",
      "0      1              Bulbasaur    Grass  Poison    318  45      49       49   \n",
      "1      2                Ivysaur    Grass  Poison    405  60      62       63   \n",
      "2      3               Venusaur    Grass  Poison    525  80      82       83   \n",
      "3      3  VenusaurMega Venusaur    Grass  Poison    625  80     100      123   \n",
      "4      4             Charmander     Fire     NaN    309  39      52       43   \n",
      "..   ...                    ...      ...     ...    ...  ..     ...      ...   \n",
      "795  719                Diancie     Rock   Fairy    600  50     100      150   \n",
      "796  719    DiancieMega Diancie     Rock   Fairy    700  50     160      110   \n",
      "797  720    HoopaHoopa Confined  Psychic   Ghost    600  80     110       60   \n",
      "798  720     HoopaHoopa Unbound  Psychic    Dark    680  80     160       60   \n",
      "799  721              Volcanion     Fire   Water    600  80     110      120   \n",
      "\n",
      "     SpAtk  SpDef  Speed  Generation  Legendary  \n",
      "0       65     65     45           1      False  \n",
      "1       80     80     60           1      False  \n",
      "2      100    100     80           1      False  \n",
      "3      122    120     80           1      False  \n",
      "4       60     50     65           1      False  \n",
      "..     ...    ...    ...         ...        ...  \n",
      "795    100    150     50           6       True  \n",
      "796    160    110    110           6       True  \n",
      "797    150    130     70           6       True  \n",
      "798    170    130     80           6       True  \n",
      "799    130     90     70           6       True  \n",
      "\n",
      "[800 rows x 13 columns]\n"
     ]
    }
   ],
   "source": [
    "#Read POKEMON DATA\n",
    "data6=pd.read_csv(\"Pokemon.csv\")\n",
    "print(data6)"
   ]
  },
  {
   "cell_type": "code",
   "execution_count": 37,
   "metadata": {
    "collapsed": false,
    "jupyter": {
     "outputs_hidden": false
    },
    "pycharm": {
     "name": "#%%\n"
    }
   },
   "outputs": [
    {
     "name": "stdout",
     "output_type": "stream",
     "text": [
      "HP\n"
     ]
    },
    {
     "data": {
      "text/plain": [
       "<AxesSubplot:>"
      ]
     },
     "execution_count": 37,
     "metadata": {},
     "output_type": "execute_result"
    },
    {
     "data": {
      "image/png": "[encoded data removed]",
      "text/plain": [
       "<Figure size 1080x360 with 1 Axes>"
      ]
     },
     "metadata": {
      "needs_background": "light"
     },
     "output_type": "display_data"
    }
   ],
   "source": [
    "print(\"HP\")\n",
    "data6.boxplot(\"HP\")"
   ]
  },
  {
   "cell_type": "code",
   "execution_count": 38,
   "metadata": {
    "collapsed": false,
    "jupyter": {
     "outputs_hidden": false
    },
    "pycharm": {
     "name": "#%%\n"
    }
   },
   "outputs": [
    {
     "name": "stdout",
     "output_type": "stream",
     "text": [
      "Attack\n"
     ]
    },
    {
     "data": {
      "text/plain": [
       "<AxesSubplot:>"
      ]
     },
     "execution_count": 38,
     "metadata": {},
     "output_type": "execute_result"
    },
    {
     "data": {
      "image/png": "[encoded data removed]",
      "text/plain": [
       "<Figure size 1080x360 with 1 Axes>"
      ]
     },
     "metadata": {
      "needs_background": "light"
     },
     "output_type": "display_data"
    }
   ],
   "source": [
    "print(\"Attack\")\n",
    "data6.boxplot(\"Attack\")"
   ]
  },
  {
   "cell_type": "code",
   "execution_count": 39,
   "metadata": {
    "collapsed": false,
    "jupyter": {
     "outputs_hidden": false
    },
    "pycharm": {
     "name": "#%%\n"
    }
   },
   "outputs": [
    {
     "name": "stdout",
     "output_type": "stream",
     "text": [
      "Defense\n"
     ]
    },
    {
     "data": {
      "text/plain": [
       "<AxesSubplot:>"
      ]
     },
     "execution_count": 39,
     "metadata": {},
     "output_type": "execute_result"
    },
    {
     "data": {
      "image/png": "[encoded data removed]",
      "text/plain": [
       "<Figure size 1080x360 with 1 Axes>"
      ]
     },
     "metadata": {
      "needs_background": "light"
     },
     "output_type": "display_data"
    }
   ],
   "source": [
    "print(\"Defense\")\n",
    "data6.boxplot(\"Defense\")"
   ]
  },
  {
   "cell_type": "code",
   "execution_count": 40,
   "metadata": {
    "collapsed": false,
    "jupyter": {
     "outputs_hidden": false
    },
    "pycharm": {
     "name": "#%%\n"
    }
   },
   "outputs": [
    {
     "name": "stdout",
     "output_type": "stream",
     "text": [
      "SpAtk\n"
     ]
    },
    {
     "data": {
      "text/plain": [
       "<AxesSubplot:>"
      ]
     },
     "execution_count": 40,
     "metadata": {},
     "output_type": "execute_result"
    },
    {
     "data": {
      "image/png": "[encoded data removed]",
      "text/plain": [
       "<Figure size 1080x360 with 1 Axes>"
      ]
     },
     "metadata": {
      "needs_background": "light"
     },
     "output_type": "display_data"
    }
   ],
   "source": [
    "print(\"SpAtk\")\n",
    "\n",
    "data6.boxplot(\"SpAtk\")"
   ]
  },
  {
   "cell_type": "code",
   "execution_count": 41,
   "metadata": {
    "collapsed": false,
    "jupyter": {
     "outputs_hidden": false
    },
    "pycharm": {
     "name": "#%%\n"
    }
   },
   "outputs": [
    {
     "name": "stdout",
     "output_type": "stream",
     "text": [
      "SpDef\n"
     ]
    },
    {
     "data": {
      "text/plain": [
       "<AxesSubplot:>"
      ]
     },
     "execution_count": 41,
     "metadata": {},
     "output_type": "execute_result"
    },
    {
     "data": {
      "image/png": "[encoded data removed]",
      "text/plain": [
       "<Figure size 1080x360 with 1 Axes>"
      ]
     },
     "metadata": {
      "needs_background": "light"
     },
     "output_type": "display_data"
    }
   ],
   "source": [
    "print(\"SpDef\")\n",
    "\n",
    "data6.boxplot(\"SpDef\")"
   ]
  },
  {
   "cell_type": "code",
   "execution_count": 42,
   "metadata": {
    "collapsed": false,
    "jupyter": {
     "outputs_hidden": false
    },
    "pycharm": {
     "name": "#%%\n"
    }
   },
   "outputs": [
    {
     "name": "stdout",
     "output_type": "stream",
     "text": [
      "Speed\n"
     ]
    },
    {
     "data": {
      "text/plain": [
       "<AxesSubplot:>"
      ]
     },
     "execution_count": 42,
     "metadata": {},
     "output_type": "execute_result"
    },
    {
     "data": {
      "image/png": "[encoded data removed]",
      "text/plain": [
       "<Figure size 1080x360 with 1 Axes>"
      ]
     },
     "metadata": {
      "needs_background": "light"
     },
     "output_type": "display_data"
    }
   ],
   "source": [
    "print(\"Speed\")\n",
    "\n",
    "data6.boxplot(\"Speed\")\n"
   ]
  },
  {
   "cell_type": "markdown",
   "metadata": {},
   "source": [
    "### (b)"
   ]
  },
  {
   "cell_type": "code",
   "execution_count": 43,
   "metadata": {
    "collapsed": false,
    "jupyter": {
     "outputs_hidden": false
    },
    "pycharm": {
     "name": "#%%\n"
    }
   },
   "outputs": [],
   "source": [
    "data_to_process=data6[[\"HP\",\"Attack\",\"Defense\",\"SpAtk\",\"SpDef\",\"Speed\"]]\n",
    "proc_data=data_to_process.values"
   ]
  },
  {
   "cell_type": "code",
   "execution_count": 44,
   "metadata": {
    "collapsed": false,
    "jupyter": {
     "outputs_hidden": false
    },
    "pycharm": {
     "name": "#%%\n"
    }
   },
   "outputs": [
    {
     "name": "stdout",
     "output_type": "stream",
     "text": [
      "the data after scale\n",
      "[[0.17322835 0.23783784 0.19555556 0.29891304 0.21428571 0.22857143]\n",
      " [0.23228346 0.30810811 0.25777778 0.38043478 0.28571429 0.31428571]\n",
      " [0.31102362 0.41621622 0.34666667 0.48913043 0.38095238 0.42857143]\n",
      " ...\n",
      " [0.31102362 0.56756757 0.24444444 0.76086957 0.52380952 0.37142857]\n",
      " [0.31102362 0.83783784 0.24444444 0.86956522 0.52380952 0.42857143]\n",
      " [0.31102362 0.56756757 0.51111111 0.65217391 0.33333333 0.37142857]]\n"
     ]
    }
   ],
   "source": [
    "scaler=MinMaxScaler((0,1))\n",
    "data_scaled = scaler.fit_transform(proc_data)\n",
    "print(\"the data after scale\")\n",
    "print(data_scaled)"
   ]
  },
  {
   "cell_type": "markdown",
   "metadata": {},
   "source": [
    "### (C)"
   ]
  },
  {
   "cell_type": "code",
   "execution_count": 45,
   "metadata": {
    "collapsed": false,
    "jupyter": {
     "outputs_hidden": false
    },
    "pycharm": {
     "name": "#%%\n"
    }
   },
   "outputs": [
    {
     "name": "stdout",
     "output_type": "stream",
     "text": [
      "7\n"
     ]
    }
   ],
   "source": [
    "from sklearn import cluster\n",
    "ccenters=[]\n",
    "for x in range(2,9):\n",
    "    data = data_scaled\n",
    "    km = cluster.KMeans(n_clusters=x)\n",
    "    km.fit(data)\n",
    "    ccenters.append(km.cluster_centers_)\n",
    "print(len(ccenters))"
   ]
  },
  {
   "cell_type": "code",
   "execution_count": 46,
   "metadata": {
    "collapsed": false,
    "jupyter": {
     "outputs_hidden": false
    },
    "pycharm": {
     "name": "#%%\n"
    }
   },
   "outputs": [
    {
     "name": "stdout",
     "output_type": "stream",
     "text": [
      "[[0.35625234 0.67754183 0.39470899 0.62286491 0.36105442 0.51176871]\n",
      " [0.20651396 0.25745876 0.22516595 0.18231225 0.1334261  0.17387755]\n",
      " [0.3361599  0.36807577 0.30203229 0.4157841  0.2990232  0.28957265]\n",
      " [0.29018532 0.51782692 0.30478114 0.30802591 0.24458874 0.555671  ]\n",
      " [0.19182443 0.27230209 0.18669819 0.23955442 0.15596082 0.372077  ]\n",
      " [0.30229957 0.55558968 0.43267677 0.26049901 0.23290043 0.28681818]\n",
      " [0.27901806 0.35510334 0.31529412 0.55268542 0.35165266 0.5370084 ]\n",
      " [0.24483268 0.36385135 0.63222222 0.30978261 0.47723214 0.22696429]]\n",
      "[1 2 6 0 4 4 6 0 0 1 2 2 0 1 1 2 1 1 4 3 1 4 3 6 4 3 4 3 4 3 4 3 1 5 1 4 2\n",
      " 1 4 3 1 2 4 6 1 2 1 3 1 2 2 1 5 1 6 4 3 4 3 4 6 4 3 4 0 4 4 5 4 6 6 6 1 5\n",
      " 5 1 2 2 4 6 1 5 5 3 3 1 2 7 4 6 4 4 3 1 2 1 5 1 5 4 6 6 6 7 1 2 5 5 4 6 1\n",
      " 2 1 5 3 5 2 1 5 1 5 2 2 3 3 4 6 4 2 4 6 6 3 6 6 6 5 3 3 4 3 0 2 1 4 2 6 0\n",
      " 2 1 2 4 5 3 3 2 6 6 0 1 2 0 0 0 0 0 1 2 2 4 4 6 1 5 5 1 3 1 2 4 4 1 5 3 4\n",
      " 2 4 1 1 1 2 4 6 1 2 2 0 2 1 2 5 2 1 4 3 4 1 2 4 1 5 6 7 3 2 6 4 1 3 1 5 2\n",
      " 5 7 7 1 5 3 5 5 7 3 5 3 1 5 1 7 1 5 2 4 2 4 2 5 4 6 6 6 1 5 2 3 4 1 5 4 4\n",
      " 4 3 2 6 3 6 1 2 0 0 6 0 0 4 4 6 0 4 2 0 0 1 2 5 0 1 5 4 3 1 1 2 1 4 1 4 2\n",
      " 1 4 3 4 3 4 2 1 4 6 6 4 2 1 5 1 3 0 1 3 1 1 4 2 1 5 1 7 1 4 2 7 5 5 1 5 5\n",
      " 7 4 4 3 4 6 6 4 4 4 4 2 1 2 4 3 0 2 2 1 2 0 7 4 6 4 1 4 3 1 2 1 2 0 3 2 2\n",
      " 5 4 2 1 5 4 7 1 2 4 5 4 6 2 2 1 5 0 1 7 2 2 3 0 1 1 2 0 1 2 2 1 5 2 5 4 1\n",
      " 5 0 0 1 5 0 0 7 7 7 6 0 6 0 0 0 0 0 0 0 0 0 0 7 3 1 5 5 4 4 3 1 2 2 4 4 3\n",
      " 1 4 1 4 1 4 0 4 6 5 5 7 7 1 2 5 2 2 4 2 4 4 3 1 6 1 2 3 4 2 4 3 3 6 0 4 3\n",
      " 1 4 3 1 7 1 4 1 4 7 1 3 3 0 1 4 0 0 1 5 4 3 4 3 2 4 3 4 1 2 0 3 6 2 5 5 3\n",
      " 6 6 6 5 6 3 3 6 3 0 7 7 3 6 6 6 6 6 6 7 0 0 0 0 6 0 0 0 7 2 0 6 0 0 0 0 4\n",
      " 4 3 1 2 0 1 2 2 1 3 1 4 5 4 3 4 3 4 3 4 3 1 2 1 4 3 4 3 1 5 5 4 3 4 3 2 7\n",
      " 1 5 5 4 4 2 5 3 1 1 3 1 1 3 4 3 1 6 3 4 4 3 1 3 6 2 1 5 1 7 6 1 7 1 5 3 0\n",
      " 4 5 4 6 4 3 1 2 2 1 2 2 1 3 1 2 6 4 3 3 4 5 1 2 1 2 5 4 6 1 7 1 2 3 4 2 2\n",
      " 1 2 1 2 6 1 5 3 1 5 6 1 6 2 4 3 5 1 5 4 5 5 4 3 4 2 2 3 1 2 0 4 6 3 3 6 0\n",
      " 6 0 0 0 0 0 0 0 0 0 6 6 6 3 0 1 5 5 4 2 6 4 4 6 1 4 4 4 3 1 1 4 4 6 1 2 6\n",
      " 4 2 1 5 3 4 6 6 1 5 0 7 1 2 1 2 1 5 1 5 1 2 1 2 4 6 5 5 1 2 2 3 6 7 1 2 6\n",
      " 2 1 5 1 4 1 1 5 3 5 5 1 5 4 6 0 0 3 7 0 0 0 0]\n"
     ]
    }
   ],
   "source": [
    "print(km.cluster_centers_)\n",
    "print(km.labels_)"
   ]
  },
  {
   "cell_type": "markdown",
   "metadata": {},
   "source": [
    "### (d)"
   ]
  },
  {
   "cell_type": "code",
   "execution_count": 47,
   "metadata": {
    "collapsed": false,
    "jupyter": {
     "outputs_hidden": false
    },
    "pycharm": {
     "name": "#%%\n"
    }
   },
   "outputs": [],
   "source": [
    "from gapstat import gapstat\n",
    "from gapstat import gapstat\n",
    "from sklearn.cluster import KMeans\n",
    "from sklearn.datasets import make_blobs\n",
    "\n",
    "k, labels = gapstat(data_scaled, clusterer=KMeans(),\n",
    "                   max_k=9)"
   ]
  },
  {
   "cell_type": "code",
   "execution_count": 48,
   "metadata": {
    "collapsed": false,
    "jupyter": {
     "outputs_hidden": false
    },
    "pycharm": {
     "name": "#%%\n"
    }
   },
   "outputs": [
    {
     "name": "stdout",
     "output_type": "stream",
     "text": [
      "5\n"
     ]
    }
   ],
   "source": [
    "print(k)"
   ]
  },
  {
   "cell_type": "markdown",
   "metadata": {},
   "source": [
    "### (e)\n"
   ]
  },
  {
   "cell_type": "markdown",
   "metadata": {
    "pycharm": {
     "name": "#%% md\n"
    }
   },
   "source": []
  },
  {
   "cell_type": "code",
   "execution_count": 49,
   "metadata": {
    "collapsed": false,
    "jupyter": {
     "outputs_hidden": false
    },
    "pycharm": {
     "name": "#%%\n"
    }
   },
   "outputs": [
    {
     "name": "stdout",
     "output_type": "stream",
     "text": [
      "the best number of groups is 5\n",
      "for group 0\n",
      "[0.20163105 0.26189189 0.20903175 0.20126165 0.14008503 0.25128571]\n",
      "for group 1\n",
      "[0.311234   0.566536   0.42765055 0.26871059 0.25332606 0.32684842]\n",
      "for group 2\n",
      "[0.27110236 0.39913514 0.25478519 0.38637681 0.24225397 0.52030476]\n",
      "for group 3\n",
      "[0.30220472 0.33902703 0.39029333 0.43052174 0.38220952 0.28644571]\n",
      "for group 4\n",
      "[0.34490261 0.61588431 0.37910331 0.61231884 0.36140351 0.54596491]\n"
     ]
    }
   ],
   "source": [
    "group_array=np.ndarray([5,6])\n",
    "print(f\"the best number of groups is {k}\")\n",
    "for i in range(k):\n",
    "    data_group_i=data_scaled[labels==i]\n",
    "    #print(data_group_i)\n",
    "    mean=data_group_i.mean(axis=0)\n",
    "    group_array[i]=mean\n",
    "    print(f\"for group {i}\")\n",
    "    print(mean)\n",
    "    pass"
   ]
  },
  {
   "cell_type": "markdown",
   "metadata": {},
   "source": [
    "### (f)"
   ]
  },
  {
   "cell_type": "code",
   "execution_count": 50,
   "metadata": {
    "collapsed": false,
    "jupyter": {
     "outputs_hidden": false
    },
    "pycharm": {
     "name": "#%%\n"
    }
   },
   "outputs": [
    {
     "name": "stdout",
     "output_type": "stream",
     "text": [
      "the best number of groups is 5\n",
      "for group 0\n",
      "HP         52.214286\n",
      "Attack     53.450000\n",
      "Defense    52.032143\n",
      "SpAtk      47.032143\n",
      "SpDef      49.417857\n",
      "Speed      48.975000\n",
      "dtype: float64\n",
      "for group 1\n",
      "HP          80.053435\n",
      "Attack     109.809160\n",
      "Defense    101.221374\n",
      "SpAtk       59.442748\n",
      "SpDef       73.198473\n",
      "Speed       62.198473\n",
      "dtype: float64\n",
      "for group 2\n",
      "HP         69.860000\n",
      "Attack     78.840000\n",
      "Defense    62.326667\n",
      "SpAtk      81.093333\n",
      "SpDef      70.873333\n",
      "Speed      96.053333\n",
      "dtype: float64\n",
      "for group 3\n",
      "HP          77.760\n",
      "Attack      67.720\n",
      "Defense     92.816\n",
      "SpAtk       89.216\n",
      "SpDef      100.264\n",
      "Speed       55.128\n",
      "dtype: float64\n",
      "for group 4\n",
      "HP          88.605263\n",
      "Attack     118.938596\n",
      "Defense     90.298246\n",
      "SpAtk      122.666667\n",
      "SpDef       95.894737\n",
      "Speed      100.543860\n",
      "dtype: float64\n"
     ]
    }
   ],
   "source": [
    "print(f\"the best number of groups is {k}\")\n",
    "for i in range(k):\n",
    "    data_group_i=data_to_process[labels==i]\n",
    "    #print(data_group_i)\n",
    "    mean=data_group_i.mean()\n",
    "\n",
    "    print(f\"for group {i}\")\n",
    "    print(mean)\n",
    "    pass\n"
   ]
  },
  {
   "cell_type": "markdown",
   "metadata": {
    "pycharm": {
     "name": "#%% md\n"
    }
   },
   "source": [
    "### (g)"
   ]
  },
  {
   "cell_type": "code",
   "execution_count": 68,
   "metadata": {
    "collapsed": false,
    "jupyter": {
     "outputs_hidden": false
    },
    "pycharm": {
     "name": "#%%\n"
    }
   },
   "outputs": [
    {
     "name": "stdout",
     "output_type": "stream",
     "text": [
      "Populating the interactive namespace from numpy and matplotlib\n"
     ]
    },
    {
     "data": {
      "application/vnd.plotly.v1+json": {
       "config": {
        "plotlyServerURL": "https://plot.ly"
       },
       "data": [
        {
         "hovertemplate": "Group=0<br>Value=%{r}<br>Type=%{theta}<extra></extra>",
         "legendgroup": "0",
         "line": {
          "color": "#636efa",
          "dash": "solid"
         },
         "mode": "lines",
         "name": "0",
         "r": [
          0.20163104611923527,
          0.26189189189189205,
          0.20903174603174624,
          0.20126164596273283,
          0.1400850340136055,
          0.2512857142857144,
          0.20163104611923527
         ],
         "showlegend": true,
         "subplot": "polar",
         "theta": [
          "HP",
          "Attack",
          "Defense",
          "SpAtk",
          "SpDef",
          "Speed",
          "HP"
         ],
         "type": "scatterpolar"
        },
        {
         "hovertemplate": "Group=1<br>Value=%{r}<br>Type=%{theta}<extra></extra>",
         "legendgroup": "1",
         "line": {
          "color": "#EF553B",
          "dash": "solid"
         },
         "mode": "lines",
         "name": "1",
         "r": [
          0.31123399651379446,
          0.5665360016505053,
          0.42765055131467367,
          0.2687105874543644,
          0.2533260632497273,
          0.3268484187568155,
          0.31123399651379446
         ],
         "showlegend": true,
         "subplot": "polar",
         "theta": [
          "HP",
          "Attack",
          "Defense",
          "SpAtk",
          "SpDef",
          "Speed",
          "HP"
         ],
         "type": "scatterpolar"
        },
        {
         "hovertemplate": "Group=2<br>Value=%{r}<br>Type=%{theta}<extra></extra>",
         "legendgroup": "2",
         "line": {
          "color": "#00cc96",
          "dash": "solid"
         },
         "mode": "lines",
         "name": "2",
         "r": [
          0.27110236220472456,
          0.3991351351351353,
          0.254785185185185,
          0.3863768115942029,
          0.2422539682539684,
          0.5203047619047619,
          0.27110236220472456
         ],
         "showlegend": true,
         "subplot": "polar",
         "theta": [
          "HP",
          "Attack",
          "Defense",
          "SpAtk",
          "SpDef",
          "Speed",
          "HP"
         ],
         "type": "scatterpolar"
        },
        {
         "hovertemplate": "Group=3<br>Value=%{r}<br>Type=%{theta}<extra></extra>",
         "legendgroup": "3",
         "line": {
          "color": "#ab63fa",
          "dash": "solid"
         },
         "mode": "lines",
         "name": "3",
         "r": [
          0.3022047244094487,
          0.3390270270270271,
          0.39029333333333327,
          0.43052173913043473,
          0.38220952380952383,
          0.2864457142857141,
          0.3022047244094487
         ],
         "showlegend": true,
         "subplot": "polar",
         "theta": [
          "HP",
          "Attack",
          "Defense",
          "SpAtk",
          "SpDef",
          "Speed",
          "HP"
         ],
         "type": "scatterpolar"
        },
        {
         "hovertemplate": "Group=4<br>Value=%{r}<br>Type=%{theta}<extra></extra>",
         "legendgroup": "4",
         "line": {
          "color": "#FFA15A",
          "dash": "solid"
         },
         "mode": "lines",
         "name": "4",
         "r": [
          0.34490261085785334,
          0.6158843053579895,
          0.37910331384015616,
          0.6123188405797099,
          0.3614035087719298,
          0.5459649122807019,
          0.34490261085785334
         ],
         "showlegend": true,
         "subplot": "polar",
         "theta": [
          "HP",
          "Attack",
          "Defense",
          "SpAtk",
          "SpDef",
          "Speed",
          "HP"
         ],
         "type": "scatterpolar"
        }
       ],
       "layout": {
        "legend": {
         "title": {
          "text": "Group"
         },
         "tracegroupgap": 0
        },
        "margin": {
         "t": 60
        },
        "polar": {
         "angularaxis": {
          "direction": "clockwise",
          "rotation": 90
         },
         "domain": {
          "x": [
           0.0,
           1.0
          ],
          "y": [
           0.0,
           1.0
          ]
         }
        },
        "template": {
         "data": {
          "bar": [
           {
            "error_x": {
             "color": "#f2f5fa"
            },
            "error_y": {
             "color": "#f2f5fa"
            },
            "marker": {
             "line": {
              "color": "rgb(17,17,17)",
              "width": 0.5
             }
            },
            "type": "bar"
           }
          ],
          "barpolar": [
           {
            "marker": {
             "line": {
              "color": "rgb(17,17,17)",
              "width": 0.5
             }
            },
            "type": "barpolar"
           }
          ],
          "carpet": [
           {
            "aaxis": {
             "endlinecolor": "#A2B1C6",
             "gridcolor": "#506784",
             "linecolor": "#506784",
             "minorgridcolor": "#506784",
             "startlinecolor": "#A2B1C6"
            },
            "baxis": {
             "endlinecolor": "#A2B1C6",
             "gridcolor": "#506784",
             "linecolor": "#506784",
             "minorgridcolor": "#506784",
             "startlinecolor": "#A2B1C6"
            },
            "type": "carpet"
           }
          ],
          "choropleth": [
           {
            "colorbar": {
             "outlinewidth": 0,
             "ticks": ""
            },
            "type": "choropleth"
           }
          ],
          "contour": [
           {
            "colorbar": {
             "outlinewidth": 0,
             "ticks": ""
            },
            "colorscale": [
             [
              0.0,
              "#0d0887"
             ],
             [
              0.1111111111111111,
              "#46039f"
             ],
             [
              0.2222222222222222,
              "#7201a8"
             ],
             [
              0.3333333333333333,
              "#9c179e"
             ],
             [
              0.4444444444444444,
              "#bd3786"
             ],
             [
              0.5555555555555556,
              "#d8576b"
             ],
             [
              0.6666666666666666,
              "#ed7953"
             ],
             [
              0.7777777777777778,
              "#fb9f3a"
             ],
             [
              0.8888888888888888,
              "#fdca26"
             ],
             [
              1.0,
              "#f0f921"
             ]
            ],
            "type": "contour"
           }
          ],
          "contourcarpet": [
           {
            "colorbar": {
             "outlinewidth": 0,
             "ticks": ""
            },
            "type": "contourcarpet"
           }
          ],
          "heatmap": [
           {
            "colorbar": {
             "outlinewidth": 0,
             "ticks": ""
            },
            "colorscale": [
             [
              0.0,
              "#0d0887"
             ],
             [
              0.1111111111111111,
              "#46039f"
             ],
             [
              0.2222222222222222,
              "#7201a8"
             ],
             [
              0.3333333333333333,
              "#9c179e"
             ],
             [
              0.4444444444444444,
              "#bd3786"
             ],
             [
              0.5555555555555556,
              "#d8576b"
             ],
             [
              0.6666666666666666,
              "#ed7953"
             ],
             [
              0.7777777777777778,
              "#fb9f3a"
             ],
             [
              0.8888888888888888,
              "#fdca26"
             ],
             [
              1.0,
              "#f0f921"
             ]
            ],
            "type": "heatmap"
           }
          ],
          "heatmapgl": [
           {
            "colorbar": {
             "outlinewidth": 0,
             "ticks": ""
            },
            "colorscale": [
             [
              0.0,
              "#0d0887"
             ],
             [
              0.1111111111111111,
              "#46039f"
             ],
             [
              0.2222222222222222,
              "#7201a8"
             ],
             [
              0.3333333333333333,
              "#9c179e"
             ],
             [
              0.4444444444444444,
              "#bd3786"
             ],
             [
              0.5555555555555556,
              "#d8576b"
             ],
             [
              0.6666666666666666,
              "#ed7953"
             ],
             [
              0.7777777777777778,
              "#fb9f3a"
             ],
             [
              0.8888888888888888,
              "#fdca26"
             ],
             [
              1.0,
              "#f0f921"
             ]
            ],
            "type": "heatmapgl"
           }
          ],
          "histogram": [
           {
            "marker": {
             "colorbar": {
              "outlinewidth": 0,
              "ticks": ""
             }
            },
            "type": "histogram"
           }
          ],
          "histogram2d": [
           {
            "colorbar": {
             "outlinewidth": 0,
             "ticks": ""
            },
            "colorscale": [
             [
              0.0,
              "#0d0887"
             ],
             [
              0.1111111111111111,
              "#46039f"
             ],
             [
              0.2222222222222222,
              "#7201a8"
             ],
             [
              0.3333333333333333,
              "#9c179e"
             ],
             [
              0.4444444444444444,
              "#bd3786"
             ],
             [
              0.5555555555555556,
              "#d8576b"
             ],
             [
              0.6666666666666666,
              "#ed7953"
             ],
             [
              0.7777777777777778,
              "#fb9f3a"
             ],
             [
              0.8888888888888888,
              "#fdca26"
             ],
             [
              1.0,
              "#f0f921"
             ]
            ],
            "type": "histogram2d"
           }
          ],
          "histogram2dcontour": [
           {
            "colorbar": {
             "outlinewidth": 0,
             "ticks": ""
            },
            "colorscale": [
             [
              0.0,
              "#0d0887"
             ],
             [
              0.1111111111111111,
              "#46039f"
             ],
             [
              0.2222222222222222,
              "#7201a8"
             ],
             [
              0.3333333333333333,
              "#9c179e"
             ],
             [
              0.4444444444444444,
              "#bd3786"
             ],
             [
              0.5555555555555556,
              "#d8576b"
             ],
             [
              0.6666666666666666,
              "#ed7953"
             ],
             [
              0.7777777777777778,
              "#fb9f3a"
             ],
             [
              0.8888888888888888,
              "#fdca26"
             ],
             [
              1.0,
              "#f0f921"
             ]
            ],
            "type": "histogram2dcontour"
           }
          ],
          "mesh3d": [
           {
            "colorbar": {
             "outlinewidth": 0,
             "ticks": ""
            },
            "type": "mesh3d"
           }
          ],
          "parcoords": [
           {
            "line": {
             "colorbar": {
              "outlinewidth": 0,
              "ticks": ""
             }
            },
            "type": "parcoords"
           }
          ],
          "pie": [
           {
            "automargin": true,
            "type": "pie"
           }
          ],
          "scatter": [
           {
            "marker": {
             "line": {
              "color": "#283442"
             }
            },
            "type": "scatter"
           }
          ],
          "scatter3d": [
           {
            "line": {
             "colorbar": {
              "outlinewidth": 0,
              "ticks": ""
             }
            },
            "marker": {
             "colorbar": {
              "outlinewidth": 0,
              "ticks": ""
             }
            },
            "type": "scatter3d"
           }
          ],
          "scattercarpet": [
           {
            "marker": {
             "colorbar": {
              "outlinewidth": 0,
              "ticks": ""
             }
            },
            "type": "scattercarpet"
           }
          ],
          "scattergeo": [
           {
            "marker": {
             "colorbar": {
              "outlinewidth": 0,
              "ticks": ""
             }
            },
            "type": "scattergeo"
           }
          ],
          "scattergl": [
           {
            "marker": {
             "line": {
              "color": "#283442"
             }
            },
            "type": "scattergl"
           }
          ],
          "scattermapbox": [
           {
            "marker": {
             "colorbar": {
              "outlinewidth": 0,
              "ticks": ""
             }
            },
            "type": "scattermapbox"
           }
          ],
          "scatterpolar": [
           {
            "marker": {
             "colorbar": {
              "outlinewidth": 0,
              "ticks": ""
             }
            },
            "type": "scatterpolar"
           }
          ],
          "scatterpolargl": [
           {
            "marker": {
             "colorbar": {
              "outlinewidth": 0,
              "ticks": ""
             }
            },
            "type": "scatterpolargl"
           }
          ],
          "scatterternary": [
           {
            "marker": {
             "colorbar": {
              "outlinewidth": 0,
              "ticks": ""
             }
            },
            "type": "scatterternary"
           }
          ],
          "surface": [
           {
            "colorbar": {
             "outlinewidth": 0,
             "ticks": ""
            },
            "colorscale": [
             [
              0.0,
              "#0d0887"
             ],
             [
              0.1111111111111111,
              "#46039f"
             ],
             [
              0.2222222222222222,
              "#7201a8"
             ],
             [
              0.3333333333333333,
              "#9c179e"
             ],
             [
              0.4444444444444444,
              "#bd3786"
             ],
             [
              0.5555555555555556,
              "#d8576b"
             ],
             [
              0.6666666666666666,
              "#ed7953"
             ],
             [
              0.7777777777777778,
              "#fb9f3a"
             ],
             [
              0.8888888888888888,
              "#fdca26"
             ],
             [
              1.0,
              "#f0f921"
             ]
            ],
            "type": "surface"
           }
          ],
          "table": [
           {
            "cells": {
             "fill": {
              "color": "#506784"
             },
             "line": {
              "color": "rgb(17,17,17)"
             }
            },
            "header": {
             "fill": {
              "color": "#2a3f5f"
             },
             "line": {
              "color": "rgb(17,17,17)"
             }
            },
            "type": "table"
           }
          ]
         },
         "layout": {
          "annotationdefaults": {
           "arrowcolor": "#f2f5fa",
           "arrowhead": 0,
           "arrowwidth": 1
          },
          "autotypenumbers": "strict",
          "coloraxis": {
           "colorbar": {
            "outlinewidth": 0,
            "ticks": ""
           }
          },
          "colorscale": {
           "diverging": [
            [
             0,
             "#8e0152"
            ],
            [
             0.1,
             "#c51b7d"
            ],
            [
             0.2,
             "#de77ae"
            ],
            [
             0.3,
             "#f1b6da"
            ],
            [
             0.4,
             "#fde0ef"
            ],
            [
             0.5,
             "#f7f7f7"
            ],
            [
             0.6,
             "#e6f5d0"
            ],
            [
             0.7,
             "#b8e186"
            ],
            [
             0.8,
             "#7fbc41"
            ],
            [
             0.9,
             "#4d9221"
            ],
            [
             1,
             "#276419"
            ]
           ],
           "sequential": [
            [
             0.0,
             "#0d0887"
            ],
            [
             0.1111111111111111,
             "#46039f"
            ],
            [
             0.2222222222222222,
             "#7201a8"
            ],
            [
             0.3333333333333333,
             "#9c179e"
            ],
            [
             0.4444444444444444,
             "#bd3786"
            ],
            [
             0.5555555555555556,
             "#d8576b"
            ],
            [
             0.6666666666666666,
             "#ed7953"
            ],
            [
             0.7777777777777778,
             "#fb9f3a"
            ],
            [
             0.8888888888888888,
             "#fdca26"
            ],
            [
             1.0,
             "#f0f921"
            ]
           ],
           "sequentialminus": [
            [
             0.0,
             "#0d0887"
            ],
            [
             0.1111111111111111,
             "#46039f"
            ],
            [
             0.2222222222222222,
             "#7201a8"
            ],
            [
             0.3333333333333333,
             "#9c179e"
            ],
            [
             0.4444444444444444,
             "#bd3786"
            ],
            [
             0.5555555555555556,
             "#d8576b"
            ],
            [
             0.6666666666666666,
             "#ed7953"
            ],
            [
             0.7777777777777778,
             "#fb9f3a"
            ],
            [
             0.8888888888888888,
             "#fdca26"
            ],
            [
             1.0,
             "#f0f921"
            ]
           ]
          },
          "colorway": [
           "#636efa",
           "#EF553B",
           "#00cc96",
           "#ab63fa",
           "#FFA15A",
           "#19d3f3",
           "#FF6692",
           "#B6E880",
           "#FF97FF",
           "#FECB52"
          ],
          "font": {
           "color": "#f2f5fa"
          },
          "geo": {
           "bgcolor": "rgb(17,17,17)",
           "lakecolor": "rgb(17,17,17)",
           "landcolor": "rgb(17,17,17)",
           "showlakes": true,
           "showland": true,
           "subunitcolor": "#506784"
          },
          "hoverlabel": {
           "align": "left"
          },
          "hovermode": "closest",
          "mapbox": {
           "style": "dark"
          },
          "paper_bgcolor": "rgb(17,17,17)",
          "plot_bgcolor": "rgb(17,17,17)",
          "polar": {
           "angularaxis": {
            "gridcolor": "#506784",
            "linecolor": "#506784",
            "ticks": ""
           },
           "bgcolor": "rgb(17,17,17)",
           "radialaxis": {
            "gridcolor": "#506784",
            "linecolor": "#506784",
            "ticks": ""
           }
          },
          "scene": {
           "xaxis": {
            "backgroundcolor": "rgb(17,17,17)",
            "gridcolor": "#506784",
            "gridwidth": 2,
            "linecolor": "#506784",
            "showbackground": true,
            "ticks": "",
            "zerolinecolor": "#C8D4E3"
           },
           "yaxis": {
            "backgroundcolor": "rgb(17,17,17)",
            "gridcolor": "#506784",
            "gridwidth": 2,
            "linecolor": "#506784",
            "showbackground": true,
            "ticks": "",
            "zerolinecolor": "#C8D4E3"
           },
           "zaxis": {
            "backgroundcolor": "rgb(17,17,17)",
            "gridcolor": "#506784",
            "gridwidth": 2,
            "linecolor": "#506784",
            "showbackground": true,
            "ticks": "",
            "zerolinecolor": "#C8D4E3"
           }
          },
          "shapedefaults": {
           "line": {
            "color": "#f2f5fa"
           }
          },
          "sliderdefaults": {
           "bgcolor": "#C8D4E3",
           "bordercolor": "rgb(17,17,17)",
           "borderwidth": 1,
           "tickwidth": 0
          },
          "ternary": {
           "aaxis": {
            "gridcolor": "#506784",
            "linecolor": "#506784",
            "ticks": ""
           },
           "baxis": {
            "gridcolor": "#506784",
            "linecolor": "#506784",
            "ticks": ""
           },
           "bgcolor": "rgb(17,17,17)",
           "caxis": {
            "gridcolor": "#506784",
            "linecolor": "#506784",
            "ticks": ""
           }
          },
          "title": {
           "x": 0.05
          },
          "updatemenudefaults": {
           "bgcolor": "#506784",
           "borderwidth": 0
          },
          "xaxis": {
           "automargin": true,
           "gridcolor": "#283442",
           "linecolor": "#506784",
           "ticks": "",
           "title": {
            "standoff": 15
           },
           "zerolinecolor": "#283442",
           "zerolinewidth": 2
          },
          "yaxis": {
           "automargin": true,
           "gridcolor": "#283442",
           "linecolor": "#506784",
           "ticks": "",
           "title": {
            "standoff": 15
           },
           "zerolinecolor": "#283442",
           "zerolinewidth": 2
          }
         }
        }
       }
      },
      "text/html": "<div>                            <div id=\"f83ab00b-8e09-428a-8b3f-fad78d5ba9e3\" class=\"plotly-graph-div\" style=\"height:525px; width:100%;\"></div>            <script type=\"text/javascript\">                require([\"plotly\"], function(Plotly) {                    window.PLOTLYENV=window.PLOTLYENV || {};                                    if (document.getElementById(\"f83ab00b-8e09-428a-8b3f-fad78d5ba9e3\")) {                    Plotly.newPlot(                        \"f83ab00b-8e09-428a-8b3f-fad78d5ba9e3\",                        [{\"hovertemplate\": \"Group=0<br>Value=%{r}<br>Type=%{theta}<extra></extra>\", \"legendgroup\": \"0\", \"line\": {\"color\": \"#636efa\", \"dash\": \"solid\"}, \"mode\": \"lines\", \"name\": \"0\", \"r\": [0.20163104611923527, 0.26189189189189205, 0.20903174603174624, 0.20126164596273283, 0.1400850340136055, 0.2512857142857144, 0.20163104611923527], \"showlegend\": true, \"subplot\": \"polar\", \"theta\": [\"HP\", \"Attack\", \"Defense\", \"SpAtk\", \"SpDef\", \"Speed\", \"HP\"], \"type\": \"scatterpolar\"}, {\"hovertemplate\": \"Group=1<br>Value=%{r}<br>Type=%{theta}<extra></extra>\", \"legendgroup\": \"1\", \"line\": {\"color\": \"#EF553B\", \"dash\": \"solid\"}, \"mode\": \"lines\", \"name\": \"1\", \"r\": [0.31123399651379446, 0.5665360016505053, 0.42765055131467367, 0.2687105874543644, 0.2533260632497273, 0.3268484187568155, 0.31123399651379446], \"showlegend\": true, \"subplot\": \"polar\", \"theta\": [\"HP\", \"Attack\", \"Defense\", \"SpAtk\", \"SpDef\", \"Speed\", \"HP\"], \"type\": \"scatterpolar\"}, {\"hovertemplate\": \"Group=2<br>Value=%{r}<br>Type=%{theta}<extra></extra>\", \"legendgroup\": \"2\", \"line\": {\"color\": \"#00cc96\", \"dash\": \"solid\"}, \"mode\": \"lines\", \"name\": \"2\", \"r\": [0.27110236220472456, 0.3991351351351353, 0.254785185185185, 0.3863768115942029, 0.2422539682539684, 0.5203047619047619, 0.27110236220472456], \"showlegend\": true, \"subplot\": \"polar\", \"theta\": [\"HP\", \"Attack\", \"Defense\", \"SpAtk\", \"SpDef\", \"Speed\", \"HP\"], \"type\": \"scatterpolar\"}, {\"hovertemplate\": \"Group=3<br>Value=%{r}<br>Type=%{theta}<extra></extra>\", \"legendgroup\": \"3\", \"line\": {\"color\": \"#ab63fa\", \"dash\": \"solid\"}, \"mode\": \"lines\", \"name\": \"3\", \"r\": [0.3022047244094487, 0.3390270270270271, 0.39029333333333327, 0.43052173913043473, 0.38220952380952383, 0.2864457142857141, 0.3022047244094487], \"showlegend\": true, \"subplot\": \"polar\", \"theta\": [\"HP\", \"Attack\", \"Defense\", \"SpAtk\", \"SpDef\", \"Speed\", \"HP\"], \"type\": \"scatterpolar\"}, {\"hovertemplate\": \"Group=4<br>Value=%{r}<br>Type=%{theta}<extra></extra>\", \"legendgroup\": \"4\", \"line\": {\"color\": \"#FFA15A\", \"dash\": \"solid\"}, \"mode\": \"lines\", \"name\": \"4\", \"r\": [0.34490261085785334, 0.6158843053579895, 0.37910331384015616, 0.6123188405797099, 0.3614035087719298, 0.5459649122807019, 0.34490261085785334], \"showlegend\": true, \"subplot\": \"polar\", \"theta\": [\"HP\", \"Attack\", \"Defense\", \"SpAtk\", \"SpDef\", \"Speed\", \"HP\"], \"type\": \"scatterpolar\"}],                        {\"legend\": {\"title\": {\"text\": \"Group\"}, \"tracegroupgap\": 0}, \"margin\": {\"t\": 60}, \"polar\": {\"angularaxis\": {\"direction\": \"clockwise\", \"rotation\": 90}, \"domain\": {\"x\": [0.0, 1.0], \"y\": [0.0, 1.0]}}, \"template\": {\"data\": {\"bar\": [{\"error_x\": {\"color\": \"#f2f5fa\"}, \"error_y\": {\"color\": \"#f2f5fa\"}, \"marker\": {\"line\": {\"color\": \"rgb(17,17,17)\", \"width\": 0.5}}, \"type\": \"bar\"}], \"barpolar\": [{\"marker\": {\"line\": {\"color\": \"rgb(17,17,17)\", \"width\": 0.5}}, \"type\": \"barpolar\"}], \"carpet\": [{\"aaxis\": {\"endlinecolor\": \"#A2B1C6\", \"gridcolor\": \"#506784\", \"linecolor\": \"#506784\", \"minorgridcolor\": \"#506784\", \"startlinecolor\": \"#A2B1C6\"}, \"baxis\": {\"endlinecolor\": \"#A2B1C6\", \"gridcolor\": \"#506784\", \"linecolor\": \"#506784\", \"minorgridcolor\": \"#506784\", \"startlinecolor\": \"#A2B1C6\"}, \"type\": \"carpet\"}], \"choropleth\": [{\"colorbar\": {\"outlinewidth\": 0, \"ticks\": \"\"}, \"type\": \"choropleth\"}], \"contour\": [{\"colorbar\": {\"outlinewidth\": 0, \"ticks\": \"\"}, \"colorscale\": [[0.0, \"#0d0887\"], [0.1111111111111111, \"#46039f\"], [0.2222222222222222, \"#7201a8\"], [0.3333333333333333, \"#9c179e\"], [0.4444444444444444, \"#bd3786\"], [0.5555555555555556, \"#d8576b\"], [0.6666666666666666, \"#ed7953\"], [0.7777777777777778, \"#fb9f3a\"], [0.8888888888888888, \"#fdca26\"], [1.0, \"#f0f921\"]], \"type\": \"contour\"}], \"contourcarpet\": [{\"colorbar\": {\"outlinewidth\": 0, \"ticks\": \"\"}, \"type\": \"contourcarpet\"}], \"heatmap\": [{\"colorbar\": {\"outlinewidth\": 0, \"ticks\": \"\"}, \"colorscale\": [[0.0, \"#0d0887\"], [0.1111111111111111, \"#46039f\"], [0.2222222222222222, \"#7201a8\"], [0.3333333333333333, \"#9c179e\"], [0.4444444444444444, \"#bd3786\"], [0.5555555555555556, \"#d8576b\"], [0.6666666666666666, \"#ed7953\"], [0.7777777777777778, \"#fb9f3a\"], [0.8888888888888888, \"#fdca26\"], [1.0, \"#f0f921\"]], \"type\": \"heatmap\"}], \"heatmapgl\": [{\"colorbar\": {\"outlinewidth\": 0, \"ticks\": \"\"}, \"colorscale\": [[0.0, \"#0d0887\"], [0.1111111111111111, \"#46039f\"], [0.2222222222222222, \"#7201a8\"], [0.3333333333333333, \"#9c179e\"], [0.4444444444444444, \"#bd3786\"], [0.5555555555555556, \"#d8576b\"], [0.6666666666666666, \"#ed7953\"], [0.7777777777777778, \"#fb9f3a\"], [0.8888888888888888, \"#fdca26\"], [1.0, \"#f0f921\"]], \"type\": \"heatmapgl\"}], \"histogram\": [{\"marker\": {\"colorbar\": {\"outlinewidth\": 0, \"ticks\": \"\"}}, \"type\": \"histogram\"}], \"histogram2d\": [{\"colorbar\": {\"outlinewidth\": 0, \"ticks\": \"\"}, \"colorscale\": [[0.0, \"#0d0887\"], [0.1111111111111111, \"#46039f\"], [0.2222222222222222, \"#7201a8\"], [0.3333333333333333, \"#9c179e\"], [0.4444444444444444, \"#bd3786\"], [0.5555555555555556, \"#d8576b\"], [0.6666666666666666, \"#ed7953\"], [0.7777777777777778, \"#fb9f3a\"], [0.8888888888888888, \"#fdca26\"], [1.0, \"#f0f921\"]], \"type\": \"histogram2d\"}], \"histogram2dcontour\": [{\"colorbar\": {\"outlinewidth\": 0, \"ticks\": \"\"}, \"colorscale\": [[0.0, \"#0d0887\"], [0.1111111111111111, \"#46039f\"], [0.2222222222222222, \"#7201a8\"], [0.3333333333333333, \"#9c179e\"], [0.4444444444444444, \"#bd3786\"], [0.5555555555555556, \"#d8576b\"], [0.6666666666666666, \"#ed7953\"], [0.7777777777777778, \"#fb9f3a\"], [0.8888888888888888, \"#fdca26\"], [1.0, \"#f0f921\"]], \"type\": \"histogram2dcontour\"}], \"mesh3d\": [{\"colorbar\": {\"outlinewidth\": 0, \"ticks\": \"\"}, \"type\": \"mesh3d\"}], \"parcoords\": [{\"line\": {\"colorbar\": {\"outlinewidth\": 0, \"ticks\": \"\"}}, \"type\": \"parcoords\"}], \"pie\": [{\"automargin\": true, \"type\": \"pie\"}], \"scatter\": [{\"marker\": {\"line\": {\"color\": \"#283442\"}}, \"type\": \"scatter\"}], \"scatter3d\": [{\"line\": {\"colorbar\": {\"outlinewidth\": 0, \"ticks\": \"\"}}, \"marker\": {\"colorbar\": {\"outlinewidth\": 0, \"ticks\": \"\"}}, \"type\": \"scatter3d\"}], \"scattercarpet\": [{\"marker\": {\"colorbar\": {\"outlinewidth\": 0, \"ticks\": \"\"}}, \"type\": \"scattercarpet\"}], \"scattergeo\": [{\"marker\": {\"colorbar\": {\"outlinewidth\": 0, \"ticks\": \"\"}}, \"type\": \"scattergeo\"}], \"scattergl\": [{\"marker\": {\"line\": {\"color\": \"#283442\"}}, \"type\": \"scattergl\"}], \"scattermapbox\": [{\"marker\": {\"colorbar\": {\"outlinewidth\": 0, \"ticks\": \"\"}}, \"type\": \"scattermapbox\"}], \"scatterpolar\": [{\"marker\": {\"colorbar\": {\"outlinewidth\": 0, \"ticks\": \"\"}}, \"type\": \"scatterpolar\"}], \"scatterpolargl\": [{\"marker\": {\"colorbar\": {\"outlinewidth\": 0, \"ticks\": \"\"}}, \"type\": \"scatterpolargl\"}], \"scatterternary\": [{\"marker\": {\"colorbar\": {\"outlinewidth\": 0, \"ticks\": \"\"}}, \"type\": \"scatterternary\"}], \"surface\": [{\"colorbar\": {\"outlinewidth\": 0, \"ticks\": \"\"}, \"colorscale\": [[0.0, \"#0d0887\"], [0.1111111111111111, \"#46039f\"], [0.2222222222222222, \"#7201a8\"], [0.3333333333333333, \"#9c179e\"], [0.4444444444444444, \"#bd3786\"], [0.5555555555555556, \"#d8576b\"], [0.6666666666666666, \"#ed7953\"], [0.7777777777777778, \"#fb9f3a\"], [0.8888888888888888, \"#fdca26\"], [1.0, \"#f0f921\"]], \"type\": \"surface\"}], \"table\": [{\"cells\": {\"fill\": {\"color\": \"#506784\"}, \"line\": {\"color\": \"rgb(17,17,17)\"}}, \"header\": {\"fill\": {\"color\": \"#2a3f5f\"}, \"line\": {\"color\": \"rgb(17,17,17)\"}}, \"type\": \"table\"}]}, \"layout\": {\"annotationdefaults\": {\"arrowcolor\": \"#f2f5fa\", \"arrowhead\": 0, \"arrowwidth\": 1}, \"autotypenumbers\": \"strict\", \"coloraxis\": {\"colorbar\": {\"outlinewidth\": 0, \"ticks\": \"\"}}, \"colorscale\": {\"diverging\": [[0, \"#8e0152\"], [0.1, \"#c51b7d\"], [0.2, \"#de77ae\"], [0.3, \"#f1b6da\"], [0.4, \"#fde0ef\"], [0.5, \"#f7f7f7\"], [0.6, \"#e6f5d0\"], [0.7, \"#b8e186\"], [0.8, \"#7fbc41\"], [0.9, \"#4d9221\"], [1, \"#276419\"]], \"sequential\": [[0.0, \"#0d0887\"], [0.1111111111111111, \"#46039f\"], [0.2222222222222222, \"#7201a8\"], [0.3333333333333333, \"#9c179e\"], [0.4444444444444444, \"#bd3786\"], [0.5555555555555556, \"#d8576b\"], [0.6666666666666666, \"#ed7953\"], [0.7777777777777778, \"#fb9f3a\"], [0.8888888888888888, \"#fdca26\"], [1.0, \"#f0f921\"]], \"sequentialminus\": [[0.0, \"#0d0887\"], [0.1111111111111111, \"#46039f\"], [0.2222222222222222, \"#7201a8\"], [0.3333333333333333, \"#9c179e\"], [0.4444444444444444, \"#bd3786\"], [0.5555555555555556, \"#d8576b\"], [0.6666666666666666, \"#ed7953\"], [0.7777777777777778, \"#fb9f3a\"], [0.8888888888888888, \"#fdca26\"], [1.0, \"#f0f921\"]]}, \"colorway\": [\"#636efa\", \"#EF553B\", \"#00cc96\", \"#ab63fa\", \"#FFA15A\", \"#19d3f3\", \"#FF6692\", \"#B6E880\", \"#FF97FF\", \"#FECB52\"], \"font\": {\"color\": \"#f2f5fa\"}, \"geo\": {\"bgcolor\": \"rgb(17,17,17)\", \"lakecolor\": \"rgb(17,17,17)\", \"landcolor\": \"rgb(17,17,17)\", \"showlakes\": true, \"showland\": true, \"subunitcolor\": \"#506784\"}, \"hoverlabel\": {\"align\": \"left\"}, \"hovermode\": \"closest\", \"mapbox\": {\"style\": \"dark\"}, \"paper_bgcolor\": \"rgb(17,17,17)\", \"plot_bgcolor\": \"rgb(17,17,17)\", \"polar\": {\"angularaxis\": {\"gridcolor\": \"#506784\", \"linecolor\": \"#506784\", \"ticks\": \"\"}, \"bgcolor\": \"rgb(17,17,17)\", \"radialaxis\": {\"gridcolor\": \"#506784\", \"linecolor\": \"#506784\", \"ticks\": \"\"}}, \"scene\": {\"xaxis\": {\"backgroundcolor\": \"rgb(17,17,17)\", \"gridcolor\": \"#506784\", \"gridwidth\": 2, \"linecolor\": \"#506784\", \"showbackground\": true, \"ticks\": \"\", \"zerolinecolor\": \"#C8D4E3\"}, \"yaxis\": {\"backgroundcolor\": \"rgb(17,17,17)\", \"gridcolor\": \"#506784\", \"gridwidth\": 2, \"linecolor\": \"#506784\", \"showbackground\": true, \"ticks\": \"\", \"zerolinecolor\": \"#C8D4E3\"}, \"zaxis\": {\"backgroundcolor\": \"rgb(17,17,17)\", \"gridcolor\": \"#506784\", \"gridwidth\": 2, \"linecolor\": \"#506784\", \"showbackground\": true, \"ticks\": \"\", \"zerolinecolor\": \"#C8D4E3\"}}, \"shapedefaults\": {\"line\": {\"color\": \"#f2f5fa\"}}, \"sliderdefaults\": {\"bgcolor\": \"#C8D4E3\", \"bordercolor\": \"rgb(17,17,17)\", \"borderwidth\": 1, \"tickwidth\": 0}, \"ternary\": {\"aaxis\": {\"gridcolor\": \"#506784\", \"linecolor\": \"#506784\", \"ticks\": \"\"}, \"baxis\": {\"gridcolor\": \"#506784\", \"linecolor\": \"#506784\", \"ticks\": \"\"}, \"bgcolor\": \"rgb(17,17,17)\", \"caxis\": {\"gridcolor\": \"#506784\", \"linecolor\": \"#506784\", \"ticks\": \"\"}}, \"title\": {\"x\": 0.05}, \"updatemenudefaults\": {\"bgcolor\": \"#506784\", \"borderwidth\": 0}, \"xaxis\": {\"automargin\": true, \"gridcolor\": \"#283442\", \"linecolor\": \"#506784\", \"ticks\": \"\", \"title\": {\"standoff\": 15}, \"zerolinecolor\": \"#283442\", \"zerolinewidth\": 2}, \"yaxis\": {\"automargin\": true, \"gridcolor\": \"#283442\", \"linecolor\": \"#506784\", \"ticks\": \"\", \"title\": {\"standoff\": 15}, \"zerolinecolor\": \"#283442\", \"zerolinewidth\": 2}}}},                        {\"responsive\": true}                    ).then(function(){\n                            \nvar gd = document.getElementById('f83ab00b-8e09-428a-8b3f-fad78d5ba9e3');\nvar x = new MutationObserver(function (mutations, observer) {{\n        var display = window.getComputedStyle(gd).display;\n        if (!display || display === 'none') {{\n            console.log([gd, 'removed!']);\n            Plotly.purge(gd);\n            observer.disconnect();\n        }}\n}});\n\n// Listen for the removal of the full notebook cells\nvar notebookContainer = gd.closest('#notebook-container');\nif (notebookContainer) {{\n    x.observe(notebookContainer, {childList: true});\n}}\n\n// Listen for the clearing of the current output cell\nvar outputEl = gd.closest('.output');\nif (outputEl) {{\n    x.observe(outputEl, {childList: true});\n}}\n\n                        })                };                });            </script>        </div>"
     },
     "metadata": {},
     "output_type": "display_data"
    }
   ],
   "source": [
    "%pylab inline\n",
    "\n",
    "from plotly.express import line_polar\n",
    "data_fram=pd.DataFrame(columns=[\"Group\",\"Type\",\"Value\"])\n",
    "types=[\"HP\",\"Attack\",\"Defense\",\"SpAtk\",\"SpDef\",\"Speed\"]\n",
    "\n",
    "for i,d in enumerate(group_array):\n",
    "    for j,v in enumerate(d):\n",
    "        new_frame=pd.DataFrame([[i,types[j],v]],\n",
    "                                                columns=[\"Group\",\"Type\",\"Value\"])\n",
    "\n",
    "        data_fram=data_fram.append(new_frame,ignore_index=True)\n",
    "\n",
    "line_polar(data_fram,r=\"Value\",theta=\"Type\", color=\"Group\",template=\"plotly_dark\",line_close=True)"
   ]
  },
  {
   "cell_type": "markdown",
   "metadata": {
    "collapsed": false,
    "jupyter": {
     "outputs_hidden": false
    },
    "pycharm": {
     "name": "#%% md\n"
    }
   },
   "source": [
    "## looks like there is a bug when trying to print line_polar\n",
    "here I just cut the picture and print it here:\n",
    "the polar picture:"
   ]
  },
  {
   "cell_type": "code",
   "execution_count": 70,
   "outputs": [
    {
     "name": "stdout",
     "output_type": "stream",
     "text": [
      "Populating the interactive namespace from numpy and matplotlib\n"
     ]
    },
    {
     "data": {
      "text/plain": "<Figure size 1440x1440 with 1 Axes>",
      "image/png": "[encoded data removed]"
     },
     "metadata": {
      "needs_background": "light"
     },
     "output_type": "display_data"
    }
   ],
   "source": [
    "%pylab inline\n",
    "import matplotlib.pyplot as plt\n",
    "import matplotlib.image as mpimg\n",
    "img = mpimg.imread('newplot.png')\n",
    "plt.figure(figsize=(20,20))\n",
    "imgplot = plt.imshow(img)\n",
    "plt.show()"
   ],
   "metadata": {
    "collapsed": false,
    "pycharm": {
     "name": "#%%\n"
    }
   }
  },
  {
   "cell_type": "markdown",
   "metadata": {},
   "source": [
    "## Q7"
   ]
  },
  {
   "cell_type": "code",
   "execution_count": 60,
   "metadata": {
    "collapsed": false,
    "jupyter": {
     "outputs_hidden": false
    },
    "pycharm": {
     "name": "#%%\n"
    }
   },
   "outputs": [],
   "source": [
    "from scipy.cluster import hierarchy\n",
    "from scipy.cluster.hierarchy import dendrogram\n",
    "from sklearn import metrics\n",
    "from sklearn import cluster\n",
    "import random\n",
    "import pandas as pd\n",
    "import numpy as np\n",
    "import matplotlib as mpl\n",
    "import matplotlib.pyplot as plt\n",
    "import seaborn as sb\n",
    "import csv\n"
   ]
  },
  {
   "cell_type": "code",
   "execution_count": 61,
   "metadata": {
    "collapsed": false,
    "jupyter": {
     "outputs_hidden": false
    },
    "pycharm": {
     "name": "#%%\n"
    }
   },
   "outputs": [
    {
     "name": "stdout",
     "output_type": "stream",
     "text": [
      "['Song', 'Artist', 'Type', 'LVar', 'LAve', 'LMax', 'LFEner', 'LFreq']\n",
      "['Dancing Queen', 'Abba', 'Rock', ' 17600755.6', '-90.0068667', '29921', '105.92095', ' 59.57379']\n",
      "62\n",
      "[ 1.76007556e+07 -9.00068667e+01  2.99210000e+04  1.05920950e+02\n",
      "  5.95737900e+01]\n"
     ]
    }
   ],
   "source": [
    "import csv\n",
    "##Read Music Data\n",
    "data7=[]\n",
    "with open('music2.csv') as csv_file:\n",
    "    csv_reader = csv.reader(csv_file)\n",
    "    d_header = next(csv_reader)\n",
    "    for row in csv_reader:\n",
    "        data7.append(row)\n",
    "col_name = d_header\n",
    "print(col_name)\n",
    "print(data7[0])\n",
    "print(len(data7))\n",
    "np_d7 = np.asarray(data7)\n",
    "#num_cols contains all numeric columns\n",
    "num_cols = np.asarray(np_d7[:,3:8],dtype=float)\n",
    "print(num_cols[0])\n",
    "#str_cols contains all string columns\n",
    "str_cols=np.asarray(np_d7[:,0:3])\n",
    "d7 = np.c_[str_cols,num_cols]\n",
    "#print(d7)"
   ]
  },
  {
   "cell_type": "code",
   "execution_count": 62,
   "metadata": {
    "collapsed": false,
    "jupyter": {
     "outputs_hidden": false
    },
    "pycharm": {
     "name": "#%%\n"
    }
   },
   "outputs": [],
   "source": [
    "#standardize data\n",
    "from sklearn.preprocessing import StandardScaler\n",
    "stad_data = StandardScaler().fit_transform(num_cols)\n",
    "#print(stad_data)"
   ]
  },
  {
   "cell_type": "code",
   "execution_count": 63,
   "metadata": {
    "collapsed": false,
    "jupyter": {
     "outputs_hidden": false
    },
    "pycharm": {
     "name": "#%%\n"
    }
   },
   "outputs": [],
   "source": [
    "#Type\n",
    "#single\n",
    "modelSingle = cluster.AgglomerativeClustering(distance_threshold=0,\n",
    "                                              n_clusters=None,\n",
    "                                              linkage=\"single\")\n",
    "modelSingle = modelSingle.fit(stad_data)\n",
    "\n",
    "ypred = modelSingle.fit_predict(stad_data)\n",
    "Z_s = hierarchy.linkage(stad_data, 'single')\n",
    "\n",
    "modelComplete = cluster.AgglomerativeClustering(distance_threshold=0,                                             n_clusters=None,\n",
    "                                                linkage=\"complete\")\n",
    "modelComplete = modelComplete.fit(stad_data)\n",
    "ypred = modelComplete.fit_predict(stad_data)\n",
    "Z_c = hierarchy.linkage(stad_data, 'complete')"
   ]
  },
  {
   "cell_type": "code",
   "execution_count": 64,
   "metadata": {
    "collapsed": false,
    "jupyter": {
     "outputs_hidden": false
    },
    "pycharm": {
     "name": "#%%\n"
    }
   },
   "outputs": [
    {
     "data": {
      "text/plain": "<Figure size 1080x576 with 1 Axes>",
      "image/png": "[encoded data removed]"
     },
     "metadata": {
      "needs_background": "light"
     },
     "output_type": "display_data"
    },
    {
     "data": {
      "text/plain": "<Figure size 1080x576 with 1 Axes>",
      "image/png": "[encoded data removed]"
     },
     "metadata": {
      "needs_background": "light"
     },
     "output_type": "display_data"
    }
   ],
   "source": [
    "import matplotlib.pylab as pylab\n",
    "params = {'legend.fontsize': 'x-large',\n",
    "          'figure.figsize': (15, 5),\n",
    "         'axes.labelsize': 'x-large',\n",
    "         'axes.titlesize':'x-large',\n",
    "         'xtick.labelsize':'x-large',\n",
    "         'ytick.labelsize':'x-large'}\n",
    "pylab.rcParams.update(params)\n",
    "plt.figure(figsize=(15, 8))\n",
    "plt.xlabel(\"type\",fontsize=20)\n",
    "plt.title(\"single linkage\")\n",
    "dn = hierarchy.dendrogram(Z_s,labels=str_cols[:,2])\n",
    "plt.figure(figsize=(15, 8))\n",
    "plt.title(\"complete linkage\")\n",
    "plt.xlabel(\"type\",fontsize=20)\n",
    "dn = hierarchy.dendrogram(Z_c,labels=str_cols[:,2])\n",
    "\n",
    "\n",
    "\n",
    "#complete"
   ]
  },
  {
   "cell_type": "code",
   "execution_count": 65,
   "metadata": {
    "collapsed": false,
    "jupyter": {
     "outputs_hidden": false
    },
    "pycharm": {
     "name": "#%%\n"
    }
   },
   "outputs": [
    {
     "data": {
      "text/plain": "<Figure size 1080x576 with 1 Axes>",
      "image/png": "[encoded data removed]"
     },
     "metadata": {
      "needs_background": "light"
     },
     "output_type": "display_data"
    },
    {
     "data": {
      "text/plain": "<Figure size 1080x576 with 1 Axes>",
      "image/png": "[encoded data removed]"
     },
     "metadata": {
      "needs_background": "light"
     },
     "output_type": "display_data"
    }
   ],
   "source": [
    "plt.figure(figsize=(15, 8))\n",
    "plt.xlabel(\"artist\",fontsize=20)\n",
    "plt.title(\"single linkage\")\n",
    "dn = hierarchy.dendrogram(Z_s,labels=str_cols[:,1])\n",
    "plt.figure(figsize=(15, 8))\n",
    "plt.title(\"complete linkage\")\n",
    "plt.xlabel(\"artist\",fontsize=20)\n",
    "dn = hierarchy.dendrogram(Z_c,labels=str_cols[:,1])\n",
    "\n",
    "\n",
    "#Artist\n"
   ]
  },
  {
   "cell_type": "markdown",
   "metadata": {
    "pycharm": {
     "name": "#%% md\n"
    }
   },
   "source": [
    "I think Complete linkage is better. For single linkage, when there are a few of groups exists, there are one huge group,and other groups only have 1 or 2 members,\n",
    "this mean the chainning problems is serious in this case.\n",
    "\n",
    "When consider complete linkage, the clusters are well formated."
   ]
  }
 ],
 "metadata": {
  "kernelspec": {
   "display_name": "Python 3",
   "language": "python",
   "name": "python3"
  },
  "language_info": {
   "codemirror_mode": {
    "name": "ipython",
    "version": 3
   },
   "file_extension": ".py",
   "mimetype": "text/x-python",
   "name": "python",
   "nbconvert_exporter": "python",
   "pygments_lexer": "ipython3",
   "version": "3.9.1"
  }
 },
 "nbformat": 4,
 "nbformat_minor": 4
}